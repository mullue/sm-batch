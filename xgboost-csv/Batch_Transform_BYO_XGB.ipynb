{
 "cells": [
  {
   "cell_type": "markdown",
   "metadata": {},
   "source": [
    "# SageMaker Batch Transform using an XgBoost Bring Your Own Container (BYOC)\n",
    "\n",
    "소스 : https://sagemaker-examples.readthedocs.io/en/latest/aws_sagemaker_studio/sagemaker_studio_image_build/xgboost_bring_your_own/Batch_Transform_BYO_XGB.html\n",
    "\n",
    "이 노트북에서는 Amazon SageMaker Studio를 사용하여 사용자 지정 XGBoost 컨테이너를 구축하는 방법을 보여주는 종단 간 데이터 과학 워크플로를 살펴봅니다. 먼저 SageMaker Processing을 사용하여 데이터를 처리하고, XGB 알고리즘 컨테이너를 ECR로 푸시하고, 모델을 훈련하고, Batch Transform을 사용하여 배치 또는 오프라인 모드에서 모델에서 추론을 생성합니다. 마지막으로 SageMaker Experiments를 사용하여 훈련된 모델과 관련된 메타데이터 및 계보(linenage)를 캡처합니다. 캡처된 메타데이터가 실험 UI에 표시되기 때문에 이것이 SageMaker Studio의 주요 차별화 요소입니다.\n",
    "\n",
    "\n",
    "## The example\n",
    "\n",
    "이 예제에서는 UCI 신용 카드 데이터 세트와 함께 작동하는 Python 예제를 사용하여 Amazon SageMaker studio에서 사용자 지정 XGBoost 컨테이너를 패키징하는 방법을 보여줍니다. 다른 알고리즘이나 다른 데이터 세트를 사용하려면 본 예제에 첨부된 Docker 컨테이너와 xgboost 폴더의 변경을 통해 쉽게 준비할 수 있습니다.\n",
    "\n",
    "이 예에서는 단일 이미지를 사용하여 학습 및 호스팅을 지원합니다. 이렇게 하면 두 작업에 대해 하나의 이미지만 관리하면 되므로 절차가 간소화됩니다. 학습과 호스팅의 요구 사항이 달라서 별도의 이미지가 필요한 경우에는 이를 분리할 수도 있습니다. 이 경우 아래에서 설명되는 Dockerfile을 별도로 분리하고 두 개의 이미지를 빌드합니다. 하나의 이미지를 사용할지 두 개의 이미지를 사용할지 선택하는 것은 어떤 방식이 개발 및 관리하기에 가장 편리한 지에 따라 선택합니다.\n",
    "\n",
    "교육 또는 호스팅중 하나에만 Amazon SageMaker만 사용하고 둘 다 사용하지 않는 경우에는 해당 기능만 컨테이너에 구축하면 됩니다.\n",
    "\n",
    "## The workflow\n",
    "\n",
    "이 노트북은 *데이터 및 기능 엔지니어링 탐색*, *컨티어너 구축*, *컨테이너를 사용하여 모델 학습 및 추론 생성*의 세 부분으로 나뉩니다."
   ]
  },
  {
   "cell_type": "markdown",
   "metadata": {},
   "source": [
    "### The Dockerfile\n",
    "\n",
    "Dockerfile을 통해 빌드하려는 이미지를 정의합니다. 실행하려는 시스템의 전체 운영 체제 설치를 정의하는 것으로 생각할 수 있습니다. 기본 작업을 위해 호스트 시스템의 Linux를 활용하기 때문에 실행 중인 Docker 컨테이너는 전체 운영 체제보다는 훨씬 가볍습니다. \n",
    "\n",
    "Python science 스택의 경우, 공식 TensorFlow 도커 이미지에서 시작하여 일반 도구를 실행하고 TensorFlow Serving을 설치합니다. 그런 다음 특정 알고리즘을 구현하는 코드를 컨테이너에 추가하고 이를 실행하기에 적합한 환경을 설정합니다.\n",
    "\n",
    "BYOC가 SageMaker 노트북 인스턴스와 작동하는 방식에 대한 자세한 내용은 https://github.com/awslabs/amazon-sagemaker-examples/blob/master/advanced_functionity/scikit_bring_your_own/scikit_bring_your_own.ipynb 예제를 참조하십시오. SageMaker 노트북 인스턴스와 달리 SageMaker 스튜디오에서는 build_and_push.sh 스크립트를 사용하지 않습니다. 대신 studio-build CLI를 이용하여 컨테이너를 ECR로 푸시하는 것을 처리합니다.\n",
    "\n",
    "이 예제에 대한 Dockerfile을 살펴보겠습니다."
   ]
  },
  {
   "cell_type": "code",
   "execution_count": 2,
   "metadata": {},
   "outputs": [
    {
     "name": "stdout",
     "output_type": "stream",
     "text": [
      "# Build an image that can do training and inference in SageMaker\n",
      "# This is a Python 3 image that uses the nginx, gunicorn, flask stack\n",
      "# for serving inferences in a stable way.\n",
      "\n",
      "FROM ubuntu:16.04\n",
      "\n",
      "MAINTAINER Amazon AI <sage-learner@amazon.com>\n",
      "\n",
      "RUN apt-get update\n",
      "RUN apt-get install -y software-properties-common\n",
      "RUN add-apt-repository ppa:deadsnakes/ppa\n",
      "RUN apt-get update\n",
      "\n",
      "RUN apt-get install -y build-essential python3.6 python3.6-dev python3-pip python3.6-venv\n",
      "RUN python3.6 -m pip install pip --upgrade\n",
      "\n",
      "RUN apt-get -y update && apt-get install -y --no-install-recommends \\\n",
      "         wget \\\n",
      "         nginx \\\n",
      "         libgcc-5-dev \\ \n",
      "         ca-certificates \\\n",
      "    && rm -rf /var/lib/apt/lists/*\n",
      "\n",
      "# Here we get all python packages.\n",
      "# There's substantial overlap between scipy and numpy that we eliminate by\n",
      "# linking them together. Likewise, pip leaves the install caches populated which uses\n",
      "# a significant amount of space. These optimizations save a fair amount of space in the\n",
      "# image, which reduces start up time.\n",
      "# RUN wget https://bootstrap.pypa.io/3.3/get-pip.py && python3.6 get-pip.py && \\\n",
      "RUN pip install --upgrade pip && \\\n",
      "    pip install smdebug numpy==1.16.2 scipy==1.2.1 scikit-learn==0.19.1 xgboost==0.90 pandas==0.22.0 flask gevent gunicorn requests && \\\n",
      "        (cd /usr/local/lib/python3.6/dist-packages/scipy/.libs; rm *; ln ../../numpy/.libs/* .) && \\\n",
      "        rm -rf /root/.cache\n",
      "\n",
      "# Set some environment variables. PYTHONUNBUFFERED keeps Python from buffering our standard\n",
      "# output stream, which means that logs can be delivered to the user quickly. PYTHONDONTWRITEBYTECODE\n",
      "# keeps Python from writing the .pyc files which are unnecessary in this case. We also update\n",
      "# PATH so that the train and serve programs are found when the container is invoked.\n",
      "\n",
      "ENV PYTHONUNBUFFERED=TRUE\n",
      "ENV PYTHONDONTWRITEBYTECODE=TRUE\n",
      "\n",
      "ENV PATH=\"/opt/ml/code:${PATH}\"\n",
      "\n",
      "# /opt/ml and all subdirectories are utilized by SageMaker, we use the /code subdirectory to store our user code.\n",
      "\n",
      "COPY xgboost /opt/ml/code\n",
      "WORKDIR /opt/ml/code\n",
      "RUN chmod +x /opt/ml/code/train\n",
      "RUN chmod +x /opt/ml/code/serve\n",
      "\n",
      "\n",
      "\n"
     ]
    }
   ],
   "source": [
    "!cat Dockerfile"
   ]
  },
  {
   "cell_type": "markdown",
   "metadata": {},
   "source": [
    "### Step 1: Pre-requisites: Download the necessary libraries"
   ]
  },
  {
   "cell_type": "code",
   "execution_count": 3,
   "metadata": {},
   "outputs": [],
   "source": [
    "import sys\n",
    "\n",
    "#!{sys.executable} -m pip install \"sagemaker-experiments\"\n",
    "#!{sys.executable} -m pip install \"sagemaker-studio-image-build\""
   ]
  },
  {
   "cell_type": "code",
   "execution_count": 4,
   "metadata": {},
   "outputs": [
    {
     "name": "stdout",
     "output_type": "stream",
     "text": [
      "Requirement already satisfied: sagemaker-experiments in /home/ec2-user/anaconda3/envs/python3/lib/python3.6/site-packages (0.1.33)\n",
      "Requirement already satisfied: boto3>=1.16.27 in /home/ec2-user/anaconda3/envs/python3/lib/python3.6/site-packages (from sagemaker-experiments) (1.17.98)\n",
      "Requirement already satisfied: jmespath<1.0.0,>=0.7.1 in /home/ec2-user/anaconda3/envs/python3/lib/python3.6/site-packages (from boto3>=1.16.27->sagemaker-experiments) (0.10.0)\n",
      "Requirement already satisfied: botocore<1.21.0,>=1.20.98 in /home/ec2-user/anaconda3/envs/python3/lib/python3.6/site-packages (from boto3>=1.16.27->sagemaker-experiments) (1.20.105)\n",
      "Requirement already satisfied: s3transfer<0.5.0,>=0.4.0 in /home/ec2-user/anaconda3/envs/python3/lib/python3.6/site-packages (from boto3>=1.16.27->sagemaker-experiments) (0.4.2)\n",
      "Requirement already satisfied: python-dateutil<3.0.0,>=2.1 in /home/ec2-user/anaconda3/envs/python3/lib/python3.6/site-packages (from botocore<1.21.0,>=1.20.98->boto3>=1.16.27->sagemaker-experiments) (2.8.1)\n",
      "Requirement already satisfied: urllib3<1.27,>=1.25.4 in /home/ec2-user/anaconda3/envs/python3/lib/python3.6/site-packages (from botocore<1.21.0,>=1.20.98->boto3>=1.16.27->sagemaker-experiments) (1.26.5)\n",
      "Requirement already satisfied: six>=1.5 in /home/ec2-user/anaconda3/envs/python3/lib/python3.6/site-packages (from python-dateutil<3.0.0,>=2.1->botocore<1.21.0,>=1.20.98->boto3>=1.16.27->sagemaker-experiments) (1.15.0)\n",
      "\u001b[33mWARNING: You are using pip version 21.1.2; however, version 21.1.3 is available.\n",
      "You should consider upgrading via the '/home/ec2-user/anaconda3/envs/python3/bin/python -m pip install --upgrade pip' command.\u001b[0m\n"
     ]
    }
   ],
   "source": [
    "!pip install sagemaker-experiments"
   ]
  },
  {
   "cell_type": "markdown",
   "metadata": {},
   "source": [
    "### Step 2: Ensure IAM Role has access to necessary services\n",
    "\n",
    "SageMaker Studio 이미지 빌드 CLI는 Amazon Elastic Container Registry 및 AWS CodeBuild를 사용하므로 CLI 명령에 대한 입력으로 제공하는 역할에 필요한 정책과 권한이 연결되어 있는지 확인해야 합니다.\n",
    "\n",
    "Two scenarios are supported including: \n",
    "다음과 같은 두 가지 시나리오가 지원됩니다.\n",
    "\n",
    "\n",
    "* **SageMaker 실행 역할(Execution Role)에 IAM 권한 추가**\n",
    "\n",
    "   이 시나리오에는 필요한 권한으로 이 노트북 인스턴스에 연결된 실행 역할(Execution Role) 업데이트가 포함됩니다. 이 시나리오에서는 현재 실행 역할을 가져와 신뢰 정책(trush policy) 및 추가 권한이 역할(role)과 연결되어 있는지 확인해야 합니다.\n",
    "       \n",
    "* **적절한 권한이 첨부된 별도 역할(role) 생성/활용**\n",
    "\n",
    "   이 시나리오에는 아래와 같은 권한이 있는 역할(role)을 설정하고 CLI를 호출할 때 --role 인수를 이용하여 실행합니다(예: *sm-docker build . --role build-cli-role*).\n",
    "   \n",
    "   \n",
    "**역할(role)이 다음을 포함하는지 확인합니다.**\n",
    "\n",
    "1) Trust policy with CodeBuild\n",
    "\n",
    "      {\n",
    "      \"Version\": \"2012-10-17\",\n",
    "      \"Statement\": [\n",
    "        {\n",
    "          \"Effect\": \"Allow\",\n",
    "          \"Principal\": {\n",
    "            \"Service\": [\n",
    "              \"codebuild.amazonaws.com\"\n",
    "            ]\n",
    "          },\n",
    "          \"Action\": \"sts:AssumeRole\"\n",
    "        }\n",
    "      ]\n",
    "    }\n",
    "    \n",
    "2) Permissions attached to the execution role to execute a build in AWS CodeBuild, create ECR repository and push images to ECR \n",
    "\n",
    "     {\n",
    "    \"Version\": \"2012-10-17\",\n",
    "    \"Statement\": [\n",
    "        {\n",
    "            \"Effect\": \"Allow\",\n",
    "            \"Action\": [\n",
    "                \"codebuild:DeleteProject\",\n",
    "                \"codebuild:CreateProject\",\n",
    "                \"codebuild:BatchGetBuilds\",\n",
    "                \"codebuild:StartBuild\"\n",
    "            ],\n",
    "            \"Resource\": \"arn:aws:codebuild:*:*:project/sagemaker-studio*\"\n",
    "        },\n",
    "        {\n",
    "            \"Effect\": \"Allow\",\n",
    "            \"Action\": \"logs:CreateLogStream\",\n",
    "            \"Resource\": \"arn:aws:logs:*:*:log-group:/aws/codebuild/sagemaker-studio*\"\n",
    "        },\n",
    "        {\n",
    "            \"Effect\": \"Allow\",\n",
    "            \"Action\": [\n",
    "                \"logs:GetLogEvents\",\n",
    "                \"logs:PutLogEvents\"\n",
    "            ],\n",
    "            \"Resource\": \"arn:aws:logs:*:*:log-group:/aws/codebuild/sagemaker-studio*:log-stream:*\"\n",
    "        },\n",
    "        {\n",
    "            \"Effect\": \"Allow\",\n",
    "            \"Action\": \"logs:CreateLogGroup\",\n",
    "            \"Resource\": \"*\"\n",
    "        },\n",
    "        {\n",
    "            \"Effect\": \"Allow\",\n",
    "            \"Action\": [\n",
    "                \"ecr:CreateRepository\",\n",
    "                \"ecr:BatchGetImage\",\n",
    "                \"ecr:CompleteLayerUpload\",\n",
    "                \"ecr:DescribeImages\",\n",
    "                \"ecr:DescribeRepositories\",\n",
    "                \"ecr:UploadLayerPart\",\n",
    "                \"ecr:ListImages\",\n",
    "                \"ecr:InitiateLayerUpload\",\n",
    "                \"ecr:BatchCheckLayerAvailability\",\n",
    "                \"ecr:PutImage\"\n",
    "            ],\n",
    "            \"Resource\": \"arn:aws:ecr:*:*:repository/sagemaker-studio*\"\n",
    "        },\n",
    "        {\n",
    "            \"Effect\": \"Allow\",\n",
    "            \"Action\": \"ecr:GetAuthorizationToken\",\n",
    "            \"Resource\": \"*\"\n",
    "        },\n",
    "        {\n",
    "            \"Effect\": \"Allow\",\n",
    "            \"Action\": [\n",
    "              \"s3:GetObject\",\n",
    "              \"s3:DeleteObject\",\n",
    "              \"s3:PutObject\"\n",
    "              ],\n",
    "            \"Resource\": \"arn:aws:s3:::sagemaker-*/*\"\n",
    "        },\n",
    "        {\n",
    "            \"Effect\": \"Allow\",\n",
    "            \"Action\": [\n",
    "                \"s3:CreateBucket\"\n",
    "            ],\n",
    "            \"Resource\": \"arn:aws:s3:::sagemaker*\"\n",
    "        },\n",
    "        {\n",
    "            \"Effect\": \"Allow\",\n",
    "            \"Action\": [\n",
    "                \"iam:GetRole\",\n",
    "                \"iam:ListRoles\"\n",
    "            ],\n",
    "            \"Resource\": \"*\"\n",
    "        },\n",
    "        {\n",
    "            \"Effect\": \"Allow\",\n",
    "            \"Action\": \"iam:PassRole\",\n",
    "            \"Resource\": \"arn:aws:iam::*:role/*\",\n",
    "            \"Condition\": {\n",
    "                \"StringLikeIfExists\": {\n",
    "                    \"iam:PassedToService\": \"codebuild.amazonaws.com\"\n",
    "                }\n",
    "            }\n",
    "        }\n",
    "    ]\n",
    "}"
   ]
  },
  {
   "cell_type": "markdown",
   "metadata": {},
   "source": [
    "### Restart Kernel\n",
    "\n",
    "라이브러리가 설치되면 커널(Kernel) --> 다시시작(Restart)을 클릭하여 커널을 재실행한 후 아래의 모든 셀을 실행합니다."
   ]
  },
  {
   "cell_type": "code",
   "execution_count": 5,
   "metadata": {},
   "outputs": [
    {
     "name": "stdout",
     "output_type": "stream",
     "text": [
      "Region = ap-northeast-1\n"
     ]
    }
   ],
   "source": [
    "# Let's inspect the role we have created for our notebook here:\n",
    "import boto3\n",
    "import sagemaker\n",
    "from sagemaker import get_execution_role\n",
    "\n",
    "role = get_execution_role()\n",
    "sess = sagemaker.Session()\n",
    "region = boto3.session.Session().region_name\n",
    "print(\"Region = {}\".format(region))\n",
    "sm = boto3.Session().client(\"sagemaker\")"
   ]
  },
  {
   "cell_type": "markdown",
   "metadata": {},
   "source": [
    "### Complete Setup: Import libraries and set global definitions.\n"
   ]
  },
  {
   "cell_type": "code",
   "execution_count": 6,
   "metadata": {},
   "outputs": [],
   "source": [
    "import matplotlib.pyplot as plt\n",
    "import numpy as np\n",
    "import pandas as pd\n",
    "import os\n",
    "from time import sleep, gmtime, strftime\n",
    "import json\n",
    "import time"
   ]
  },
  {
   "cell_type": "code",
   "execution_count": 7,
   "metadata": {},
   "outputs": [],
   "source": [
    "# Import SageMaker Experiments\n",
    "\n",
    "from sagemaker.analytics import ExperimentAnalytics\n",
    "from smexperiments.experiment import Experiment\n",
    "from smexperiments.trial import Trial\n",
    "from smexperiments.trial_component import TrialComponent\n",
    "from smexperiments.tracker import Tracker"
   ]
  },
  {
   "cell_type": "markdown",
   "metadata": {},
   "source": [
    "### Specify buckets for storing data"
   ]
  },
  {
   "cell_type": "code",
   "execution_count": 8,
   "metadata": {},
   "outputs": [],
   "source": [
    "# Use our custom bucket here.\n",
    "rawbucket = sess.default_bucket()\n",
    "prefix = \"sagemaker-modelmonitor\"  # use this prefix to store all files pertaining to this workshop.\n",
    "\n",
    "dataprefix = prefix + \"/data\"\n",
    "traindataprefix = prefix + \"/train_data\"\n",
    "testdataprefix = prefix + \"/test_data\"\n",
    "testdatanolabelprefix = prefix + \"/test_data_no_label\"\n",
    "trainheaderprefix = prefix + \"/train_headers\""
   ]
  },
  {
   "cell_type": "markdown",
   "metadata": {},
   "source": [
    "### Step 3: Data Exploration"
   ]
  },
  {
   "cell_type": "markdown",
   "metadata": {},
   "source": [
    "데이터 과학 라이프사이클의 핵심은 데이터 탐색(EDA), 전처리(pre-processing) 및 특성 공학(feature engineering)입니다. 데이터 탐색에는 SM 노트북을 사용하고 특성 공학 및 데이터 전처리에는 SM Processing을 사용하겠습니다."
   ]
  },
  {
   "cell_type": "markdown",
   "metadata": {},
   "source": [
    "### Download and Import the data"
   ]
  },
  {
   "cell_type": "markdown",
   "metadata": {},
   "source": [
    "본 노트북에서는 [UCI Machine Learning Archive 데이터 세트 예제](https://archive.ics.uci.edu/ml/datasets/default+of+credit+card+client)의 결제 데이터를 사용합니다. 이 예제는 이전 달의 지불 내역, 지불, 청구서 등과 같은 여러 공통 기능이 있어 사용자가 다음 달에 지불을 불이행할지 여부를 이진 분류로 예측합니다."
   ]
  },
  {
   "cell_type": "code",
   "execution_count": 9,
   "metadata": {},
   "outputs": [
    {
     "data": {
      "text/html": [
       "<div>\n",
       "<style scoped>\n",
       "    .dataframe tbody tr th:only-of-type {\n",
       "        vertical-align: middle;\n",
       "    }\n",
       "\n",
       "    .dataframe tbody tr th {\n",
       "        vertical-align: top;\n",
       "    }\n",
       "\n",
       "    .dataframe thead th {\n",
       "        text-align: right;\n",
       "    }\n",
       "</style>\n",
       "<table border=\"1\" class=\"dataframe\">\n",
       "  <thead>\n",
       "    <tr style=\"text-align: right;\">\n",
       "      <th></th>\n",
       "      <th>LIMIT_BAL</th>\n",
       "      <th>SEX</th>\n",
       "      <th>EDUCATION</th>\n",
       "      <th>MARRIAGE</th>\n",
       "      <th>AGE</th>\n",
       "      <th>PAY_0</th>\n",
       "      <th>PAY_2</th>\n",
       "      <th>PAY_3</th>\n",
       "      <th>PAY_4</th>\n",
       "      <th>PAY_5</th>\n",
       "      <th>...</th>\n",
       "      <th>BILL_AMT4</th>\n",
       "      <th>BILL_AMT5</th>\n",
       "      <th>BILL_AMT6</th>\n",
       "      <th>PAY_AMT1</th>\n",
       "      <th>PAY_AMT2</th>\n",
       "      <th>PAY_AMT3</th>\n",
       "      <th>PAY_AMT4</th>\n",
       "      <th>PAY_AMT5</th>\n",
       "      <th>PAY_AMT6</th>\n",
       "      <th>default payment next month</th>\n",
       "    </tr>\n",
       "  </thead>\n",
       "  <tbody>\n",
       "    <tr>\n",
       "      <th>0</th>\n",
       "      <td>20000</td>\n",
       "      <td>2</td>\n",
       "      <td>2</td>\n",
       "      <td>1</td>\n",
       "      <td>24</td>\n",
       "      <td>2</td>\n",
       "      <td>2</td>\n",
       "      <td>-1</td>\n",
       "      <td>-1</td>\n",
       "      <td>-2</td>\n",
       "      <td>...</td>\n",
       "      <td>0</td>\n",
       "      <td>0</td>\n",
       "      <td>0</td>\n",
       "      <td>0</td>\n",
       "      <td>689</td>\n",
       "      <td>0</td>\n",
       "      <td>0</td>\n",
       "      <td>0</td>\n",
       "      <td>0</td>\n",
       "      <td>1</td>\n",
       "    </tr>\n",
       "    <tr>\n",
       "      <th>1</th>\n",
       "      <td>120000</td>\n",
       "      <td>2</td>\n",
       "      <td>2</td>\n",
       "      <td>2</td>\n",
       "      <td>26</td>\n",
       "      <td>-1</td>\n",
       "      <td>2</td>\n",
       "      <td>0</td>\n",
       "      <td>0</td>\n",
       "      <td>0</td>\n",
       "      <td>...</td>\n",
       "      <td>3272</td>\n",
       "      <td>3455</td>\n",
       "      <td>3261</td>\n",
       "      <td>0</td>\n",
       "      <td>1000</td>\n",
       "      <td>1000</td>\n",
       "      <td>1000</td>\n",
       "      <td>0</td>\n",
       "      <td>2000</td>\n",
       "      <td>1</td>\n",
       "    </tr>\n",
       "    <tr>\n",
       "      <th>2</th>\n",
       "      <td>90000</td>\n",
       "      <td>2</td>\n",
       "      <td>2</td>\n",
       "      <td>2</td>\n",
       "      <td>34</td>\n",
       "      <td>0</td>\n",
       "      <td>0</td>\n",
       "      <td>0</td>\n",
       "      <td>0</td>\n",
       "      <td>0</td>\n",
       "      <td>...</td>\n",
       "      <td>14331</td>\n",
       "      <td>14948</td>\n",
       "      <td>15549</td>\n",
       "      <td>1518</td>\n",
       "      <td>1500</td>\n",
       "      <td>1000</td>\n",
       "      <td>1000</td>\n",
       "      <td>1000</td>\n",
       "      <td>5000</td>\n",
       "      <td>0</td>\n",
       "    </tr>\n",
       "    <tr>\n",
       "      <th>3</th>\n",
       "      <td>50000</td>\n",
       "      <td>2</td>\n",
       "      <td>2</td>\n",
       "      <td>1</td>\n",
       "      <td>37</td>\n",
       "      <td>0</td>\n",
       "      <td>0</td>\n",
       "      <td>0</td>\n",
       "      <td>0</td>\n",
       "      <td>0</td>\n",
       "      <td>...</td>\n",
       "      <td>28314</td>\n",
       "      <td>28959</td>\n",
       "      <td>29547</td>\n",
       "      <td>2000</td>\n",
       "      <td>2019</td>\n",
       "      <td>1200</td>\n",
       "      <td>1100</td>\n",
       "      <td>1069</td>\n",
       "      <td>1000</td>\n",
       "      <td>0</td>\n",
       "    </tr>\n",
       "    <tr>\n",
       "      <th>4</th>\n",
       "      <td>50000</td>\n",
       "      <td>1</td>\n",
       "      <td>2</td>\n",
       "      <td>1</td>\n",
       "      <td>57</td>\n",
       "      <td>-1</td>\n",
       "      <td>0</td>\n",
       "      <td>-1</td>\n",
       "      <td>0</td>\n",
       "      <td>0</td>\n",
       "      <td>...</td>\n",
       "      <td>20940</td>\n",
       "      <td>19146</td>\n",
       "      <td>19131</td>\n",
       "      <td>2000</td>\n",
       "      <td>36681</td>\n",
       "      <td>10000</td>\n",
       "      <td>9000</td>\n",
       "      <td>689</td>\n",
       "      <td>679</td>\n",
       "      <td>0</td>\n",
       "    </tr>\n",
       "  </tbody>\n",
       "</table>\n",
       "<p>5 rows × 24 columns</p>\n",
       "</div>"
      ],
      "text/plain": [
       "   LIMIT_BAL  SEX  EDUCATION  MARRIAGE  AGE  PAY_0  PAY_2  PAY_3  PAY_4  \\\n",
       "0      20000    2          2         1   24      2      2     -1     -1   \n",
       "1     120000    2          2         2   26     -1      2      0      0   \n",
       "2      90000    2          2         2   34      0      0      0      0   \n",
       "3      50000    2          2         1   37      0      0      0      0   \n",
       "4      50000    1          2         1   57     -1      0     -1      0   \n",
       "\n",
       "   PAY_5  ...  BILL_AMT4  BILL_AMT5  BILL_AMT6  PAY_AMT1  PAY_AMT2  PAY_AMT3  \\\n",
       "0     -2  ...          0          0          0         0       689         0   \n",
       "1      0  ...       3272       3455       3261         0      1000      1000   \n",
       "2      0  ...      14331      14948      15549      1518      1500      1000   \n",
       "3      0  ...      28314      28959      29547      2000      2019      1200   \n",
       "4      0  ...      20940      19146      19131      2000     36681     10000   \n",
       "\n",
       "   PAY_AMT4  PAY_AMT5  PAY_AMT6  default payment next month  \n",
       "0         0         0         0                           1  \n",
       "1      1000         0      2000                           1  \n",
       "2      1000      1000      5000                           0  \n",
       "3      1100      1069      1000                           0  \n",
       "4      9000       689       679                           0  \n",
       "\n",
       "[5 rows x 24 columns]"
      ]
     },
     "execution_count": 9,
     "metadata": {},
     "output_type": "execute_result"
    }
   ],
   "source": [
    "data = pd.read_excel(\"data.xls\", header=1)\n",
    "data = data.drop(columns=[\"ID\"])\n",
    "data.head()"
   ]
  },
  {
   "cell_type": "code",
   "execution_count": 10,
   "metadata": {},
   "outputs": [
    {
     "data": {
      "text/html": [
       "<div>\n",
       "<style scoped>\n",
       "    .dataframe tbody tr th:only-of-type {\n",
       "        vertical-align: middle;\n",
       "    }\n",
       "\n",
       "    .dataframe tbody tr th {\n",
       "        vertical-align: top;\n",
       "    }\n",
       "\n",
       "    .dataframe thead th {\n",
       "        text-align: right;\n",
       "    }\n",
       "</style>\n",
       "<table border=\"1\" class=\"dataframe\">\n",
       "  <thead>\n",
       "    <tr style=\"text-align: right;\">\n",
       "      <th></th>\n",
       "      <th>Label</th>\n",
       "      <th>LIMIT_BAL</th>\n",
       "      <th>SEX</th>\n",
       "      <th>EDUCATION</th>\n",
       "      <th>MARRIAGE</th>\n",
       "      <th>AGE</th>\n",
       "      <th>PAY_0</th>\n",
       "      <th>PAY_2</th>\n",
       "      <th>PAY_3</th>\n",
       "      <th>PAY_4</th>\n",
       "      <th>...</th>\n",
       "      <th>BILL_AMT3</th>\n",
       "      <th>BILL_AMT4</th>\n",
       "      <th>BILL_AMT5</th>\n",
       "      <th>BILL_AMT6</th>\n",
       "      <th>PAY_AMT1</th>\n",
       "      <th>PAY_AMT2</th>\n",
       "      <th>PAY_AMT3</th>\n",
       "      <th>PAY_AMT4</th>\n",
       "      <th>PAY_AMT5</th>\n",
       "      <th>PAY_AMT6</th>\n",
       "    </tr>\n",
       "  </thead>\n",
       "  <tbody>\n",
       "    <tr>\n",
       "      <th>0</th>\n",
       "      <td>1</td>\n",
       "      <td>20000</td>\n",
       "      <td>2</td>\n",
       "      <td>2</td>\n",
       "      <td>1</td>\n",
       "      <td>24</td>\n",
       "      <td>2</td>\n",
       "      <td>2</td>\n",
       "      <td>-1</td>\n",
       "      <td>-1</td>\n",
       "      <td>...</td>\n",
       "      <td>689</td>\n",
       "      <td>0</td>\n",
       "      <td>0</td>\n",
       "      <td>0</td>\n",
       "      <td>0</td>\n",
       "      <td>689</td>\n",
       "      <td>0</td>\n",
       "      <td>0</td>\n",
       "      <td>0</td>\n",
       "      <td>0</td>\n",
       "    </tr>\n",
       "    <tr>\n",
       "      <th>1</th>\n",
       "      <td>1</td>\n",
       "      <td>120000</td>\n",
       "      <td>2</td>\n",
       "      <td>2</td>\n",
       "      <td>2</td>\n",
       "      <td>26</td>\n",
       "      <td>-1</td>\n",
       "      <td>2</td>\n",
       "      <td>0</td>\n",
       "      <td>0</td>\n",
       "      <td>...</td>\n",
       "      <td>2682</td>\n",
       "      <td>3272</td>\n",
       "      <td>3455</td>\n",
       "      <td>3261</td>\n",
       "      <td>0</td>\n",
       "      <td>1000</td>\n",
       "      <td>1000</td>\n",
       "      <td>1000</td>\n",
       "      <td>0</td>\n",
       "      <td>2000</td>\n",
       "    </tr>\n",
       "    <tr>\n",
       "      <th>2</th>\n",
       "      <td>0</td>\n",
       "      <td>90000</td>\n",
       "      <td>2</td>\n",
       "      <td>2</td>\n",
       "      <td>2</td>\n",
       "      <td>34</td>\n",
       "      <td>0</td>\n",
       "      <td>0</td>\n",
       "      <td>0</td>\n",
       "      <td>0</td>\n",
       "      <td>...</td>\n",
       "      <td>13559</td>\n",
       "      <td>14331</td>\n",
       "      <td>14948</td>\n",
       "      <td>15549</td>\n",
       "      <td>1518</td>\n",
       "      <td>1500</td>\n",
       "      <td>1000</td>\n",
       "      <td>1000</td>\n",
       "      <td>1000</td>\n",
       "      <td>5000</td>\n",
       "    </tr>\n",
       "    <tr>\n",
       "      <th>3</th>\n",
       "      <td>0</td>\n",
       "      <td>50000</td>\n",
       "      <td>2</td>\n",
       "      <td>2</td>\n",
       "      <td>1</td>\n",
       "      <td>37</td>\n",
       "      <td>0</td>\n",
       "      <td>0</td>\n",
       "      <td>0</td>\n",
       "      <td>0</td>\n",
       "      <td>...</td>\n",
       "      <td>49291</td>\n",
       "      <td>28314</td>\n",
       "      <td>28959</td>\n",
       "      <td>29547</td>\n",
       "      <td>2000</td>\n",
       "      <td>2019</td>\n",
       "      <td>1200</td>\n",
       "      <td>1100</td>\n",
       "      <td>1069</td>\n",
       "      <td>1000</td>\n",
       "    </tr>\n",
       "    <tr>\n",
       "      <th>4</th>\n",
       "      <td>0</td>\n",
       "      <td>50000</td>\n",
       "      <td>1</td>\n",
       "      <td>2</td>\n",
       "      <td>1</td>\n",
       "      <td>57</td>\n",
       "      <td>-1</td>\n",
       "      <td>0</td>\n",
       "      <td>-1</td>\n",
       "      <td>0</td>\n",
       "      <td>...</td>\n",
       "      <td>35835</td>\n",
       "      <td>20940</td>\n",
       "      <td>19146</td>\n",
       "      <td>19131</td>\n",
       "      <td>2000</td>\n",
       "      <td>36681</td>\n",
       "      <td>10000</td>\n",
       "      <td>9000</td>\n",
       "      <td>689</td>\n",
       "      <td>679</td>\n",
       "    </tr>\n",
       "  </tbody>\n",
       "</table>\n",
       "<p>5 rows × 24 columns</p>\n",
       "</div>"
      ],
      "text/plain": [
       "   Label  LIMIT_BAL  SEX  EDUCATION  MARRIAGE  AGE  PAY_0  PAY_2  PAY_3  \\\n",
       "0      1      20000    2          2         1   24      2      2     -1   \n",
       "1      1     120000    2          2         2   26     -1      2      0   \n",
       "2      0      90000    2          2         2   34      0      0      0   \n",
       "3      0      50000    2          2         1   37      0      0      0   \n",
       "4      0      50000    1          2         1   57     -1      0     -1   \n",
       "\n",
       "   PAY_4  ...  BILL_AMT3  BILL_AMT4  BILL_AMT5  BILL_AMT6  PAY_AMT1  PAY_AMT2  \\\n",
       "0     -1  ...        689          0          0          0         0       689   \n",
       "1      0  ...       2682       3272       3455       3261         0      1000   \n",
       "2      0  ...      13559      14331      14948      15549      1518      1500   \n",
       "3      0  ...      49291      28314      28959      29547      2000      2019   \n",
       "4      0  ...      35835      20940      19146      19131      2000     36681   \n",
       "\n",
       "   PAY_AMT3  PAY_AMT4  PAY_AMT5  PAY_AMT6  \n",
       "0         0         0         0         0  \n",
       "1      1000      1000         0      2000  \n",
       "2      1000      1000      1000      5000  \n",
       "3      1200      1100      1069      1000  \n",
       "4     10000      9000       689       679  \n",
       "\n",
       "[5 rows x 24 columns]"
      ]
     },
     "execution_count": 10,
     "metadata": {},
     "output_type": "execute_result"
    }
   ],
   "source": [
    "data.rename(columns={\"default payment next month\": \"Label\"}, inplace=True)\n",
    "lbl = data.Label\n",
    "data = pd.concat([lbl, data.drop(columns=[\"Label\"])], axis=1)\n",
    "data.head()"
   ]
  },
  {
   "cell_type": "code",
   "execution_count": 11,
   "metadata": {},
   "outputs": [],
   "source": [
    "COLS = data.columns"
   ]
  },
  {
   "cell_type": "markdown",
   "metadata": {},
   "source": [
    "### Data Exploration\n",
    "\n",
    "데이터 세트를 다운로드했으면 데이터 과학 라이프사이클의 다음 단계는 데이터 세트를 탐색하는 것입니다. 상관관계 도표(correlation plot)는 feature들이 상호간 또는 레이블과 연관되어 있는지 여부를 나타낼 수 있습니다."
   ]
  },
  {
   "cell_type": "code",
   "execution_count": 12,
   "metadata": {},
   "outputs": [
    {
     "data": {
      "image/png": "[encoded data removed]",
      "text/plain": [
       "<Figure size 1368x1080 with 2 Axes>"
      ]
     },
     "metadata": {
      "needs_background": "light"
     },
     "output_type": "display_data"
    }
   ],
   "source": [
    "## Corr plot\n",
    "f = plt.figure(figsize=(19, 15))\n",
    "plt.matshow(data.corr(), fignum=f.number)\n",
    "plt.xticks(range(data.shape[1]), data.columns, fontsize=14, rotation=45)\n",
    "plt.yticks(range(data.shape[1]), data.columns, fontsize=14)\n",
    "cb = plt.colorbar()\n",
    "cb.ax.tick_params(labelsize=14)\n",
    "plt.title(\"Correlation Matrix\", fontsize=16);"
   ]
  },
  {
   "cell_type": "code",
   "execution_count": 13,
   "metadata": {},
   "outputs": [
    {
     "data": {
      "image/png": "[encoded data removed]",
      "text/plain": [
       "<Figure size 720x720 with 16 Axes>"
      ]
     },
     "metadata": {
      "needs_background": "light"
     },
     "output_type": "display_data"
    }
   ],
   "source": [
    "from pandas.plotting import scatter_matrix\n",
    "\n",
    "SCAT_COLUMNS = [\"BILL_AMT1\", \"BILL_AMT2\", \"PAY_AMT1\", \"PAY_AMT2\"]\n",
    "scatter_matrix(data[SCAT_COLUMNS], figsize=(10, 10), diagonal=\"kde\")\n",
    "plt.show()"
   ]
  },
  {
   "cell_type": "markdown",
   "metadata": {},
   "source": [
    "### Step 4: Secure Feature Processing pipeline using SageMaker Processing\n",
    "\n",
    "노트북에서 소량의 데이터를 직접 전처리할 수도 있지만 SageMaker Processing을 이용하면 이를 별도로 분리하여 실행할 수 있습니다. SageMaker Processing을 이용하면 전처리를 위한 별도의 인프라를 프로비저닝하고, S3 위치에서 처리 컨테이너로 데이터를 다운로드하고, 처리 스크립트를 실행하고, Amazon S3의 출력 디렉터리에 처리가 완료된 데이터를 저장한 후 사용한 리소스를 삭제합니다. 처리 작업이 완료되면 작업을 실행하는 데 사용된 인프라와 여기에 저장된 모든 임시 데이터는 제거됩니다."
   ]
  },
  {
   "cell_type": "code",
   "execution_count": 14,
   "metadata": {},
   "outputs": [],
   "source": [
    "if not os.path.exists('rawdata/rawdata.csv'):\n",
    "    !mkdir rawdata\n",
    "    data.to_csv('rawdata/rawdata.csv', index=None)\n",
    "else:\n",
    "    pass"
   ]
  },
  {
   "cell_type": "code",
   "execution_count": 15,
   "metadata": {},
   "outputs": [
    {
     "name": "stdout",
     "output_type": "stream",
     "text": [
      "s3://sagemaker-ap-northeast-1-308961792850/sagemaker-modelmonitor/data\n"
     ]
    }
   ],
   "source": [
    "# Upload the raw dataset\n",
    "raw_data_location = sess.upload_data(\"rawdata\", bucket=rawbucket, key_prefix=dataprefix)\n",
    "print(raw_data_location)"
   ]
  },
  {
   "cell_type": "code",
   "execution_count": 16,
   "metadata": {},
   "outputs": [
    {
     "name": "stderr",
     "output_type": "stream",
     "text": [
      "INFO:sagemaker.image_uris:Same images used for training and inference. Defaulting to image scope: inference.\n",
      "INFO:sagemaker.image_uris:Defaulting to only available Python version: py3\n"
     ]
    }
   ],
   "source": [
    "## Use SageMaker Processing with Sk Learn. -- combine data into train and test at this stage if possible.\n",
    "from sagemaker.sklearn.processing import SKLearnProcessor\n",
    "\n",
    "sklearn_processor = SKLearnProcessor(\n",
    "    framework_version=\"0.20.0\", role=role, instance_type=\"ml.c4.xlarge\", instance_count=1\n",
    ")"
   ]
  },
  {
   "cell_type": "markdown",
   "metadata": {},
   "source": [
    "### Write a preprocessing script \n",
    "\n",
    "전처리용 코드를 생성합니다."
   ]
  },
  {
   "cell_type": "code",
   "execution_count": 17,
   "metadata": {},
   "outputs": [
    {
     "name": "stdout",
     "output_type": "stream",
     "text": [
      "Overwriting preprocessing.py\n"
     ]
    }
   ],
   "source": [
    "%%writefile preprocessing.py\n",
    "\n",
    "import argparse\n",
    "import os\n",
    "import warnings\n",
    "\n",
    "import pandas as pd\n",
    "import numpy as np\n",
    "from sklearn.model_selection import train_test_split\n",
    "from sklearn.preprocessing import StandardScaler, MinMaxScaler\n",
    "from sklearn.exceptions import DataConversionWarning\n",
    "from sklearn.compose import make_column_transformer\n",
    "\n",
    "warnings.filterwarnings(action=\"ignore\", category=DataConversionWarning)\n",
    "\n",
    "if __name__ == \"__main__\":\n",
    "    parser = argparse.ArgumentParser()\n",
    "    parser.add_argument(\"--train-test-split-ratio\", type=float, default=0.3)\n",
    "    parser.add_argument(\"--random-split\", type=int, default=0)\n",
    "    args, _ = parser.parse_known_args()\n",
    "\n",
    "    print(\"Received arguments {}\".format(args))\n",
    "\n",
    "    input_data_path = os.path.join(\"/opt/ml/processing/input\", \"rawdata.csv\")\n",
    "\n",
    "    print(\"Reading input data from {}\".format(input_data_path))\n",
    "    df = pd.read_csv(input_data_path)\n",
    "    df.sample(frac=1)\n",
    "\n",
    "    COLS = df.columns\n",
    "    newcolorder = (\n",
    "        [\"PAY_AMT1\", \"BILL_AMT1\"]\n",
    "        + list(COLS[1:])[:11]\n",
    "        + list(COLS[1:])[12:17]\n",
    "        + list(COLS[1:])[18:]\n",
    "    )\n",
    "\n",
    "    split_ratio = args.train_test_split_ratio\n",
    "    random_state = args.random_split\n",
    "\n",
    "    X_train, X_test, y_train, y_test = train_test_split(\n",
    "        df.drop(\"Label\", axis=1), df[\"Label\"], test_size=split_ratio, random_state=random_state\n",
    "    )\n",
    "\n",
    "    preprocess = make_column_transformer(\n",
    "        ([\"PAY_AMT1\"], StandardScaler()), ([\"BILL_AMT1\"], MinMaxScaler()), remainder=\"passthrough\"\n",
    "    )\n",
    "\n",
    "    print(\"Running preprocessing and feature engineering transformations\")\n",
    "    train_features = pd.DataFrame(preprocess.fit_transform(X_train), columns=newcolorder)\n",
    "    test_features = pd.DataFrame(preprocess.transform(X_test), columns=newcolorder)\n",
    "\n",
    "    # concat to ensure Label column is the first column in dataframe\n",
    "    train_full = pd.concat(\n",
    "        [pd.DataFrame(y_train.values, columns=[\"Label\"]), train_features], axis=1\n",
    "    )\n",
    "    test_full = pd.concat([pd.DataFrame(y_test.values, columns=[\"Label\"]), test_features], axis=1)\n",
    "\n",
    "    print(\"Train data shape after preprocessing: {}\".format(train_features.shape))\n",
    "    print(\"Test data shape after preprocessing: {}\".format(test_features.shape))\n",
    "\n",
    "    train_features_headers_output_path = os.path.join(\n",
    "        \"/opt/ml/processing/train_headers\", \"train_data_with_headers.csv\"\n",
    "    )\n",
    "\n",
    "    train_features_output_path = os.path.join(\"/opt/ml/processing/train\", \"train_data.csv\")\n",
    "\n",
    "    test_features_output_path = os.path.join(\"/opt/ml/processing/test\", \"test_data.csv\")\n",
    "\n",
    "    print(\"Saving training features to {}\".format(train_features_output_path))\n",
    "    train_full.to_csv(train_features_output_path, header=False, index=False)\n",
    "    print(\"Complete\")\n",
    "\n",
    "    print(\"Save training data with headers to {}\".format(train_features_headers_output_path))\n",
    "    train_full.to_csv(train_features_headers_output_path, index=False)\n",
    "\n",
    "    print(\"Saving test features to {}\".format(test_features_output_path))\n",
    "    test_full.to_csv(test_features_output_path, header=False, index=False)\n",
    "    print(\"Complete\")"
   ]
  },
  {
   "cell_type": "code",
   "execution_count": 18,
   "metadata": {},
   "outputs": [
    {
     "name": "stdout",
     "output_type": "stream",
     "text": [
      "s3://sagemaker-ap-northeast-1-308961792850/sagemaker-modelmonitor/code/preprocessing.py\n"
     ]
    }
   ],
   "source": [
    "# Copy the preprocessing code over to the s3 bucket\n",
    "codeprefix = prefix + \"/code\"\n",
    "codeupload = sess.upload_data(\"preprocessing.py\", bucket=rawbucket, key_prefix=codeprefix)\n",
    "print(codeupload)"
   ]
  },
  {
   "cell_type": "code",
   "execution_count": 19,
   "metadata": {},
   "outputs": [
    {
     "name": "stdout",
     "output_type": "stream",
     "text": [
      "Training data location = sagemaker-ap-northeast-1-308961792850/sagemaker-modelmonitor/train_data\n",
      "Test data location = sagemaker-ap-northeast-1-308961792850/sagemaker-modelmonitor/test_data\n"
     ]
    }
   ],
   "source": [
    "train_data_location = rawbucket + \"/\" + traindataprefix\n",
    "test_data_location = rawbucket + \"/\" + testdataprefix\n",
    "print(\"Training data location = {}\".format(train_data_location))\n",
    "print(\"Test data location = {}\".format(test_data_location))"
   ]
  },
  {
   "cell_type": "markdown",
   "metadata": {},
   "source": [
    "다음으로 관리형 scikit-learn 전처리 컨테이너를 사용하여 위 스크립트를 실행합니다. 이 단계를 실행하는 데 몇 분 정도 걸릴 수 있습니다."
   ]
  },
  {
   "cell_type": "code",
   "execution_count": 20,
   "metadata": {},
   "outputs": [
    {
     "name": "stderr",
     "output_type": "stream",
     "text": [
      "INFO:sagemaker:Creating processing-job with name sagemaker-scikit-learn-2021-07-13-15-15-13-493\n"
     ]
    },
    {
     "name": "stdout",
     "output_type": "stream",
     "text": [
      "\n",
      "Job Name:  sagemaker-scikit-learn-2021-07-13-15-15-13-493\n",
      "Inputs:  [{'InputName': 'input-1', 'AppManaged': False, 'S3Input': {'S3Uri': 's3://sagemaker-ap-northeast-1-308961792850/sagemaker-modelmonitor/data', 'LocalPath': '/opt/ml/processing/input', 'S3DataType': 'S3Prefix', 'S3InputMode': 'File', 'S3DataDistributionType': 'FullyReplicated', 'S3CompressionType': 'None'}}, {'InputName': 'code', 'AppManaged': False, 'S3Input': {'S3Uri': 's3://sagemaker-ap-northeast-1-308961792850/sagemaker-modelmonitor/code/preprocessing.py', 'LocalPath': '/opt/ml/processing/input/code', 'S3DataType': 'S3Prefix', 'S3InputMode': 'File', 'S3DataDistributionType': 'FullyReplicated', 'S3CompressionType': 'None'}}]\n",
      "Outputs:  [{'OutputName': 'train_data', 'AppManaged': False, 'S3Output': {'S3Uri': 's3://sagemaker-ap-northeast-1-308961792850/sagemaker-modelmonitor/train_data', 'LocalPath': '/opt/ml/processing/train', 'S3UploadMode': 'EndOfJob'}}, {'OutputName': 'test_data', 'AppManaged': False, 'S3Output': {'S3Uri': 's3://sagemaker-ap-northeast-1-308961792850/sagemaker-modelmonitor/test_data', 'LocalPath': '/opt/ml/processing/test', 'S3UploadMode': 'EndOfJob'}}, {'OutputName': 'train_data_headers', 'AppManaged': False, 'S3Output': {'S3Uri': 's3://sagemaker-ap-northeast-1-308961792850/sagemaker-modelmonitor/train_headers', 'LocalPath': '/opt/ml/processing/train_headers', 'S3UploadMode': 'EndOfJob'}}]\n",
      "................................\n",
      "\u001b[34m/miniconda3/lib/python3.7/site-packages/sklearn/externals/joblib/externals/cloudpickle/cloudpickle.py:47: DeprecationWarning: the imp module is deprecated in favour of importlib; see the module's documentation for alternative uses\n",
      "  import imp\u001b[0m\n",
      "\u001b[34mReceived arguments Namespace(random_split=0, train_test_split_ratio=0.2)\u001b[0m\n",
      "\u001b[34mReading input data from /opt/ml/processing/input/rawdata.csv\u001b[0m\n",
      "\u001b[34mRunning preprocessing and feature engineering transformations\u001b[0m\n",
      "\u001b[34mTrain data shape after preprocessing: (24000, 23)\u001b[0m\n",
      "\u001b[34mTest data shape after preprocessing: (6000, 23)\u001b[0m\n",
      "\u001b[34mSaving training features to /opt/ml/processing/train/train_data.csv\u001b[0m\n",
      "\u001b[34mComplete\u001b[0m\n",
      "\u001b[34mSave training data with headers to /opt/ml/processing/train_headers/train_data_with_headers.csv\u001b[0m\n",
      "\u001b[34mSaving test features to /opt/ml/processing/test/test_data.csv\u001b[0m\n",
      "\u001b[34mComplete\u001b[0m\n"
     ]
    }
   ],
   "source": [
    "from sagemaker.processing import ProcessingInput, ProcessingOutput\n",
    "\n",
    "sklearn_processor.run(\n",
    "    code=codeupload,\n",
    "    inputs=[ProcessingInput(source=raw_data_location, destination=\"/opt/ml/processing/input\")],\n",
    "    outputs=[\n",
    "        ProcessingOutput(\n",
    "            output_name=\"train_data\",\n",
    "            source=\"/opt/ml/processing/train\",\n",
    "            destination=\"s3://\" + train_data_location,\n",
    "        ),\n",
    "        ProcessingOutput(\n",
    "            output_name=\"test_data\",\n",
    "            source=\"/opt/ml/processing/test\",\n",
    "            destination=\"s3://\" + test_data_location,\n",
    "        ),\n",
    "        ProcessingOutput(\n",
    "            output_name=\"train_data_headers\",\n",
    "            source=\"/opt/ml/processing/train_headers\",\n",
    "            destination=\"s3://\" + rawbucket + \"/\" + prefix + \"/train_headers\",\n",
    "        ),\n",
    "    ],\n",
    "    arguments=[\"--train-test-split-ratio\", \"0.2\"],\n",
    ")\n",
    "\n",
    "preprocessing_job_description = sklearn_processor.jobs[-1].describe()\n",
    "\n",
    "output_config = preprocessing_job_description[\"ProcessingOutputConfig\"]\n",
    "for output in output_config[\"Outputs\"]:\n",
    "    if output[\"OutputName\"] == \"train_data\":\n",
    "        preprocessed_training_data = output[\"S3Output\"][\"S3Uri\"]\n",
    "    if output[\"OutputName\"] == \"test_data\":\n",
    "        preprocessed_test_data = output[\"S3Output\"][\"S3Uri\"]"
   ]
  },
  {
   "cell_type": "markdown",
   "metadata": {},
   "source": [
    "# Part 2: Building the Container and Training the model\n",
    "\n",
    "\n",
    "### Step 5: Set up SageMaker Experiments"
   ]
  },
  {
   "cell_type": "markdown",
   "metadata": {},
   "source": [
    "이 노트북에서는 위에서 살펴본 Dockerfile을 이용하여 Docker 이미지를 빌드하고 해당 Dockerfile을 사용하여 모델을 학습합니다.\n",
    "\n",
    "데이터 과학자를 위해 SageMaker Experiments를 사용하여 원시 데이터 소스에서 전처리 단계 및 모델 교육 파이프라인까지 모델 계보(lineage)를 추적합니다. 데이터 과학자는 SageMaker Experiments를 사용하여 다양한 모델 학습 작업, 데이터 처리 작업, 하이퍼파라미터 조정 작업을 비교, 추적 및 관리하고 원본 데이터에서 학습작업의 결과 생성된 아티팩트, 모델 하이퍼파라미터 및 원하는 사용자 지정 메트릭까지 계보(lineage)를 관리하고 모델 학습의 일부로 모니터링합니다."
   ]
  },
  {
   "cell_type": "code",
   "execution_count": 21,
   "metadata": {},
   "outputs": [
    {
     "name": "stdout",
     "output_type": "stream",
     "text": [
      "Experiment(sagemaker_boto_client=<botocore.client.SageMaker object at 0x7fe4ddf320f0>,experiment_name='CreditCardDefault-1626189656',description='Predict credit card default from payments data',tags=None,experiment_arn='arn:aws:sagemaker:ap-northeast-1:308961792850:experiment/creditcarddefault-1626189656',response_metadata={'RequestId': '13c99e93-7b58-40da-83e8-8dc7f89b9706', 'HTTPStatusCode': 200, 'HTTPHeaders': {'x-amzn-requestid': '13c99e93-7b58-40da-83e8-8dc7f89b9706', 'content-type': 'application/x-amz-json-1.1', 'content-length': '105', 'date': 'Tue, 13 Jul 2021 15:20:56 GMT'}, 'RetryAttempts': 0})\n"
     ]
    }
   ],
   "source": [
    "# Create a SageMaker Experiment\n",
    "cc_experiment = Experiment.create(\n",
    "    experiment_name=f\"CreditCardDefault-{int(time.time())}\",\n",
    "    description=\"Predict credit card default from payments data\",\n",
    "    sagemaker_boto_client=sm,\n",
    ")\n",
    "print(cc_experiment)"
   ]
  },
  {
   "cell_type": "markdown",
   "metadata": {},
   "source": [
    "학습 외에도 앞서 실행한 전처리 작업 또한 전체 기계 학습 파이프라인의 계보에 포함하여 추적할 수 있습니다."
   ]
  },
  {
   "cell_type": "code",
   "execution_count": 22,
   "metadata": {},
   "outputs": [],
   "source": [
    "# Start Tracking parameters used in the Pre-processing pipeline.\n",
    "with Tracker.create(display_name=\"Preprocessing\", sagemaker_boto_client=sm) as tracker:\n",
    "    tracker.log_parameters({\"train_test_split_ratio\": 0.2, \"random_state\": 0})\n",
    "    # we can log the s3 uri to the dataset we just uploaded\n",
    "    tracker.log_input(name=\"ccdefault-raw-dataset\", media_type=\"s3/uri\", value=raw_data_location)\n",
    "    tracker.log_input(\n",
    "        name=\"ccdefault-train-dataset\", media_type=\"s3/uri\", value=train_data_location\n",
    "    )\n",
    "    tracker.log_input(name=\"ccdefault-test-dataset\", media_type=\"s3/uri\", value=test_data_location)"
   ]
  },
  {
   "cell_type": "markdown",
   "metadata": {},
   "source": [
    "### Step 6: Build XgBoost container for training\n",
    "\n",
    "XGB 컨테이너에 대한 코드는 이미 이 노트북과 함께 제공됩니다. 이 컨테이너를 빌드하고 ECR에 푸시하기만 하면 됩니다. 아래 코드 한 줄이면 됩니다.\n",
    "\n",
    "#### NOTE : SageMaker Studio에서는 아래 코드를 사용합니다."
   ]
  },
  {
   "cell_type": "code",
   "execution_count": 23,
   "metadata": {},
   "outputs": [],
   "source": [
    "# !sm-docker build ."
   ]
  },
  {
   "cell_type": "markdown",
   "metadata": {},
   "source": [
    "#### NOTE : SageMaker 노트북(classic)에서 실행할 경우에는 아래 코드를 이용합니다."
   ]
  },
  {
   "cell_type": "code",
   "execution_count": 24,
   "metadata": {},
   "outputs": [
    {
     "name": "stdout",
     "output_type": "stream",
     "text": [
      "WARNING! Your password will be stored unencrypted in /home/ec2-user/.docker/config.json.\n",
      "Configure a credential helper to remove this warning. See\n",
      "https://docs.docker.com/engine/reference/commandline/login/#credentials-store\n",
      "\n",
      "Login Succeeded\n",
      "Sending build context to Docker daemon  10.71MB\n",
      "Step 1/17 : FROM ubuntu:16.04\n",
      " ---> 065cf14a189c\n",
      "Step 2/17 : MAINTAINER Amazon AI <sage-learner@amazon.com>\n",
      " ---> Using cache\n",
      " ---> 744aab8bea92\n",
      "Step 3/17 : RUN apt-get update\n",
      " ---> Using cache\n",
      " ---> e9697300fe81\n",
      "Step 4/17 : RUN apt-get install -y software-properties-common\n",
      " ---> Using cache\n",
      " ---> 8ec16195ded6\n",
      "Step 5/17 : RUN add-apt-repository ppa:deadsnakes/ppa\n",
      " ---> Using cache\n",
      " ---> 9acdee2954e5\n",
      "Step 6/17 : RUN apt-get update\n",
      " ---> Using cache\n",
      " ---> 18e1e9b390d7\n",
      "Step 7/17 : RUN apt-get install -y build-essential python3.6 python3.6-dev python3-pip python3.6-venv\n",
      " ---> Using cache\n",
      " ---> dad321293eea\n",
      "Step 8/17 : RUN python3.6 -m pip install pip --upgrade\n",
      " ---> Using cache\n",
      " ---> b3f0eb649938\n",
      "Step 9/17 : RUN apt-get -y update && apt-get install -y --no-install-recommends          wget          nginx          libgcc-5-dev          ca-certificates     && rm -rf /var/lib/apt/lists/*\n",
      " ---> Using cache\n",
      " ---> 51436e3dfa12\n",
      "Step 10/17 : RUN pip install --upgrade pip &&     pip install smdebug numpy==1.16.2 scipy==1.2.1 scikit-learn==0.19.1 xgboost==0.90 pandas==0.22.0 flask gevent gunicorn requests &&         (cd /usr/local/lib/python3.6/dist-packages/scipy/.libs; rm *; ln ../../numpy/.libs/* .) &&         rm -rf /root/.cache\n",
      " ---> Using cache\n",
      " ---> 394ad46d898e\n",
      "Step 11/17 : ENV PYTHONUNBUFFERED=TRUE\n",
      " ---> Using cache\n",
      " ---> c0d1fc0c67e5\n",
      "Step 12/17 : ENV PYTHONDONTWRITEBYTECODE=TRUE\n",
      " ---> Using cache\n",
      " ---> 39f6a45c8757\n",
      "Step 13/17 : ENV PATH=\"/opt/ml/code:${PATH}\"\n",
      " ---> Using cache\n",
      " ---> d2de753294c4\n",
      "Step 14/17 : COPY xgboost /opt/ml/code\n",
      " ---> Using cache\n",
      " ---> 2a3178e9d36b\n",
      "Step 15/17 : WORKDIR /opt/ml/code\n",
      " ---> Using cache\n",
      " ---> 4437c20f73ad\n",
      "Step 16/17 : RUN chmod +x /opt/ml/code/train\n",
      " ---> Using cache\n",
      " ---> b208bddadae9\n",
      "Step 17/17 : RUN chmod +x /opt/ml/code/serve\n",
      " ---> Using cache\n",
      " ---> 8a6b4b686bb6\n",
      "Successfully built 8a6b4b686bb6\n",
      "Successfully tagged xgboost-byoc:latest\n",
      "The push refers to repository [308961792850.dkr.ecr.ap-northeast-1.amazonaws.com/xgboost-byoc]\n",
      "\n",
      "\u001b[1B0cc6e49f: Preparing \n",
      "\u001b[1B29cd4895: Preparing \n",
      "\u001b[1B3b81692c: Preparing \n",
      "\u001b[1Ba70360ac: Preparing \n",
      "\u001b[1B83056a19: Preparing \n",
      "\u001b[1B17f3b953: Preparing \n",
      "\u001b[1B37207c50: Preparing \n",
      "\u001b[1B80dba40f: Preparing \n",
      "\u001b[1B82c3b2ee: Preparing \n",
      "\u001b[1Bcba6d54d: Preparing \n",
      "\u001b[1B1b61a7da: Preparing \n",
      "\u001b[1B1c131bb8: Preparing \n",
      "\u001b[1Bd2f5dd8f: Preparing \n",
      "\u001b[1B94391e96: Preparing \n",
      "\u001b[2B94391e96: Layer already exists \u001b[15A\u001b[2K\u001b[7A\u001b[2K\u001b[3A\u001b[2Klatest: digest: sha256:6af663c972a3275c63b4ccef622721dd623dfaa2799c93a4985ee8cd58d7e297 size: 3464\n"
     ]
    }
   ],
   "source": [
    "!chmod +x ./build_and_push.sh\n",
    "!./build_and_push.sh xgboost-byoc"
   ]
  },
  {
   "cell_type": "markdown",
   "metadata": {},
   "source": [
    "### Step 7: Train the Model\n",
    "\n",
    "이전단계의 SM Processing 에 적용한 것과 동일한 보안 설정이 학습 작업에도 적용됩니다. 또한 SageMaker Experiment를 통해 학습 작업을 추적하고 모델 아티팩트 위치, 훈련/검증 데이터 위치, 모델 하이퍼파라미터 등과 같은 메타데이터를 저장하도록 합니다.\n",
    "\n",
    "위에 표시된 것처럼 이미지 URI의 형식은 다음과 같습니다.  \n",
    "- 이미지 URI: {account-id}.dkr.ecr.{region}.amazonaws.com/sagemaker-studio-{studioID}:{username}\n",
    "\n",
    "SageMaker 노트북 classic을 사용하는 경우 이미지 URI는 다음과 같습니다.\n",
    "- 이미지 URI: {account-id}.dkr.ecr.{region}.amazonaws.com/{image_name_that_you_defined}:latest"
   ]
  },
  {
   "cell_type": "markdown",
   "metadata": {},
   "source": [
    "#### NOTE : SageMaker studio에서는 아래 셀의 코드를 이용합니다."
   ]
  },
  {
   "cell_type": "code",
   "execution_count": 25,
   "metadata": {},
   "outputs": [],
   "source": [
    "# account = sess.boto_session.client(\"sts\").get_caller_identity()[\"Account\"]\n",
    "# ecr = boto3.client(\"ecr\")\n",
    "# domain_id = \"sagemaker-studio-{}\".format(sm.list_apps()[\"Apps\"][0][\"DomainId\"])\n",
    "# image_tag = ecr.list_images(repositoryName=domain_id, filter={\"tagStatus\": \"TAGGED\"})[\"imageIds\"][\n",
    "#     0\n",
    "# ][\"imageTag\"]\n",
    "# image = \"{}.dkr.ecr.{}.amazonaws.com/{}:{}\".format(account, region, domain_id, image_tag)\n",
    "# preprocessing_trial_component = tracker.trial_component\n",
    "\n",
    "# trial_name = f\"cc-fraud-training-job-{int(time.time())}\"\n",
    "# cc_trial = Trial.create(\n",
    "#     trial_name=trial_name, experiment_name=cc_experiment.experiment_name, sagemaker_boto_client=sm\n",
    "# )\n",
    "\n",
    "# cc_trial.add_trial_component(preprocessing_trial_component)\n",
    "# cc_training_job_name = \"cc-training-job-{}\".format(int(time.time()))"
   ]
  },
  {
   "cell_type": "markdown",
   "metadata": {},
   "source": [
    "#### NOTE : SageMaker 노트북 classic을 사용하는 경우 아래 셀의 코드를 이용합니다."
   ]
  },
  {
   "cell_type": "code",
   "execution_count": 27,
   "metadata": {},
   "outputs": [],
   "source": [
    "account = sess.boto_session.client(\"sts\").get_caller_identity()[\"Account\"]\n",
    "\n",
    "image = \"{}.dkr.ecr.{}.amazonaws.com/{}:{}\".format(account, region, 'xgboost-byoc', 'latest')\n",
    "preprocessing_trial_component = tracker.trial_component\n",
    "trial_name = f\"cc-fraud-training-job-{int(time.time())}\"\n",
    "cc_trial = Trial.create(\n",
    "    trial_name=trial_name, experiment_name=cc_experiment.experiment_name, sagemaker_boto_client=sm\n",
    ")\n",
    "\n",
    "cc_trial.add_trial_component(preprocessing_trial_component)\n",
    "cc_training_job_name = \"cc-training-job-{}\".format(int(time.time()))"
   ]
  },
  {
   "cell_type": "markdown",
   "metadata": {},
   "source": [
    "#### 이제 Estmiator를 선언하고 학습을 시작합니다."
   ]
  },
  {
   "cell_type": "code",
   "execution_count": 28,
   "metadata": {
    "scrolled": true
   },
   "outputs": [
    {
     "name": "stderr",
     "output_type": "stream",
     "text": [
      "INFO:sagemaker.image_uris:Defaulting to the only supported framework/algorithm version: latest.\n",
      "INFO:sagemaker.image_uris:Ignoring unnecessary instance type: None.\n",
      "INFO:sagemaker:Creating training-job with name: cc-training-job-1626189823\n"
     ]
    },
    {
     "name": "stdout",
     "output_type": "stream",
     "text": [
      "2021-07-13 15:23:45 Starting - Starting the training job...\n",
      "2021-07-13 15:23:46 Starting - Launching requested ML instancesProfilerReport-1626189824: InProgress\n",
      "......\n",
      "2021-07-13 15:25:12 Starting - Preparing the instances for training......\n",
      "2021-07-13 15:26:16 Downloading - Downloading input data\n",
      "2021-07-13 15:26:16 Training - Downloading the training image......\n",
      "2021-07-13 15:27:13 Training - Training image download completed. Training in progress..\u001b[34m[2021-07-13 15:27:10.519 ip-10-0-118-207.ap-northeast-1.compute.internal:1 INFO utils.py:27] RULE_JOB_STOP_SIGNAL_FILENAME: None\u001b[0m\n",
      "\u001b[34mLibraries imported\u001b[0m\n",
      "\u001b[34mStarting the training.\u001b[0m\n",
      "\u001b[34mTraining complete.\u001b[0m\n",
      "\n",
      "2021-07-13 15:27:33 Uploading - Uploading generated training model\n",
      "2021-07-13 15:27:33 Completed - Training job completed\n",
      "Training seconds: 77\n",
      "Billable seconds: 77\n"
     ]
    }
   ],
   "source": [
    "xgb = sagemaker.estimator.Estimator(\n",
    "    image,\n",
    "    role,\n",
    "    instance_count=1,\n",
    "    instance_type=\"ml.m4.xlarge\",\n",
    "    max_run=86400,\n",
    "    output_path=\"s3://{}/{}/models\".format(rawbucket, prefix),\n",
    "    sagemaker_session=sess,\n",
    ")  # set to true for distributed training\n",
    "\n",
    "xgb.set_hyperparameters(\n",
    "    max_depth=5,\n",
    "    eta=0.2,\n",
    "    gamma=4,\n",
    "    min_child_weight=6,\n",
    "    subsample=0.8,\n",
    "    verbosity=0,\n",
    "    objective=\"binary:logistic\",\n",
    "    num_round=100,\n",
    ")\n",
    "\n",
    "xgb.fit(\n",
    "    inputs={\"training\": \"s3://\" + train_data_location},\n",
    "    job_name=cc_training_job_name,\n",
    "    experiment_config={\n",
    "        \"TrialName\": cc_trial.trial_name,  # log training job in Trials for lineage\n",
    "        \"TrialComponentDisplayName\": \"Training\",\n",
    "    },\n",
    "    wait=True,\n",
    ")\n",
    "time.sleep(2)"
   ]
  },
  {
   "cell_type": "markdown",
   "metadata": {},
   "source": [
    "SageMaker Experiments를 사용하여 학습작업을 추적하면 모델의 메타데이터를 추출하여 소스 데이터, 모델 아티팩트, 하이퍼파라미터 등 모델의 전체 계보를 얻을 수 있습니다.\n",
    "\n",
    "Experiments의 추적 실행은 **describe_trial_component** API를 호출합니다."
   ]
  },
  {
   "cell_type": "code",
   "execution_count": 29,
   "metadata": {
    "scrolled": true
   },
   "outputs": [
    {
     "data": {
      "text/html": [
       "<div>\n",
       "<style scoped>\n",
       "    .dataframe tbody tr th:only-of-type {\n",
       "        vertical-align: middle;\n",
       "    }\n",
       "\n",
       "    .dataframe tbody tr th {\n",
       "        vertical-align: top;\n",
       "    }\n",
       "\n",
       "    .dataframe thead th {\n",
       "        text-align: right;\n",
       "    }\n",
       "</style>\n",
       "<table border=\"1\" class=\"dataframe\">\n",
       "  <thead>\n",
       "    <tr style=\"text-align: right;\">\n",
       "      <th></th>\n",
       "      <th>TrialComponentName</th>\n",
       "      <th>DisplayName</th>\n",
       "      <th>random_state</th>\n",
       "      <th>train_test_split_ratio</th>\n",
       "      <th>ccdefault-raw-dataset - MediaType</th>\n",
       "      <th>ccdefault-raw-dataset - Value</th>\n",
       "      <th>ccdefault-test-dataset - MediaType</th>\n",
       "      <th>ccdefault-test-dataset - Value</th>\n",
       "      <th>ccdefault-train-dataset - MediaType</th>\n",
       "      <th>ccdefault-train-dataset - Value</th>\n",
       "      <th>...</th>\n",
       "      <th>max_depth</th>\n",
       "      <th>min_child_weight</th>\n",
       "      <th>num_round</th>\n",
       "      <th>objective</th>\n",
       "      <th>subsample</th>\n",
       "      <th>verbosity</th>\n",
       "      <th>training - MediaType</th>\n",
       "      <th>training - Value</th>\n",
       "      <th>SageMaker.ModelArtifact - MediaType</th>\n",
       "      <th>SageMaker.ModelArtifact - Value</th>\n",
       "    </tr>\n",
       "  </thead>\n",
       "  <tbody>\n",
       "    <tr>\n",
       "      <th>0</th>\n",
       "      <td>TrialComponent-2021-07-13-152056-lvjp</td>\n",
       "      <td>Preprocessing</td>\n",
       "      <td>0.0</td>\n",
       "      <td>0.2</td>\n",
       "      <td>s3/uri</td>\n",
       "      <td>s3://sagemaker-ap-northeast-1-308961792850/sag...</td>\n",
       "      <td>s3/uri</td>\n",
       "      <td>sagemaker-ap-northeast-1-308961792850/sagemake...</td>\n",
       "      <td>s3/uri</td>\n",
       "      <td>sagemaker-ap-northeast-1-308961792850/sagemake...</td>\n",
       "      <td>...</td>\n",
       "      <td>NaN</td>\n",
       "      <td>NaN</td>\n",
       "      <td>NaN</td>\n",
       "      <td>NaN</td>\n",
       "      <td>NaN</td>\n",
       "      <td>NaN</td>\n",
       "      <td>NaN</td>\n",
       "      <td>NaN</td>\n",
       "      <td>NaN</td>\n",
       "      <td>NaN</td>\n",
       "    </tr>\n",
       "    <tr>\n",
       "      <th>1</th>\n",
       "      <td>cc-training-job-1626189823-aws-training-job</td>\n",
       "      <td>Training</td>\n",
       "      <td>NaN</td>\n",
       "      <td>NaN</td>\n",
       "      <td>NaN</td>\n",
       "      <td>NaN</td>\n",
       "      <td>NaN</td>\n",
       "      <td>NaN</td>\n",
       "      <td>NaN</td>\n",
       "      <td>NaN</td>\n",
       "      <td>...</td>\n",
       "      <td>5.0</td>\n",
       "      <td>6.0</td>\n",
       "      <td>100.0</td>\n",
       "      <td>binary:logistic</td>\n",
       "      <td>0.8</td>\n",
       "      <td>0.0</td>\n",
       "      <td>NaN</td>\n",
       "      <td>s3://sagemaker-ap-northeast-1-308961792850/sag...</td>\n",
       "      <td>NaN</td>\n",
       "      <td>s3://sagemaker-ap-northeast-1-308961792850/sag...</td>\n",
       "    </tr>\n",
       "  </tbody>\n",
       "</table>\n",
       "<p>2 rows × 29 columns</p>\n",
       "</div>"
      ],
      "text/plain": [
       "                            TrialComponentName    DisplayName  random_state  \\\n",
       "0        TrialComponent-2021-07-13-152056-lvjp  Preprocessing           0.0   \n",
       "1  cc-training-job-1626189823-aws-training-job       Training           NaN   \n",
       "\n",
       "   train_test_split_ratio ccdefault-raw-dataset - MediaType  \\\n",
       "0                     0.2                            s3/uri   \n",
       "1                     NaN                               NaN   \n",
       "\n",
       "                       ccdefault-raw-dataset - Value  \\\n",
       "0  s3://sagemaker-ap-northeast-1-308961792850/sag...   \n",
       "1                                                NaN   \n",
       "\n",
       "  ccdefault-test-dataset - MediaType  \\\n",
       "0                             s3/uri   \n",
       "1                                NaN   \n",
       "\n",
       "                      ccdefault-test-dataset - Value  \\\n",
       "0  sagemaker-ap-northeast-1-308961792850/sagemake...   \n",
       "1                                                NaN   \n",
       "\n",
       "  ccdefault-train-dataset - MediaType  \\\n",
       "0                              s3/uri   \n",
       "1                                 NaN   \n",
       "\n",
       "                     ccdefault-train-dataset - Value  ... max_depth  \\\n",
       "0  sagemaker-ap-northeast-1-308961792850/sagemake...  ...       NaN   \n",
       "1                                                NaN  ...       5.0   \n",
       "\n",
       "  min_child_weight num_round        objective  subsample verbosity  \\\n",
       "0              NaN       NaN              NaN        NaN       NaN   \n",
       "1              6.0     100.0  binary:logistic        0.8       0.0   \n",
       "\n",
       "   training - MediaType                                   training - Value  \\\n",
       "0                   NaN                                                NaN   \n",
       "1                   NaN  s3://sagemaker-ap-northeast-1-308961792850/sag...   \n",
       "\n",
       "   SageMaker.ModelArtifact - MediaType  \\\n",
       "0                                  NaN   \n",
       "1                                  NaN   \n",
       "\n",
       "                     SageMaker.ModelArtifact - Value  \n",
       "0                                                NaN  \n",
       "1  s3://sagemaker-ap-northeast-1-308961792850/sag...  \n",
       "\n",
       "[2 rows x 29 columns]"
      ]
     },
     "execution_count": 29,
     "metadata": {},
     "output_type": "execute_result"
    }
   ],
   "source": [
    "# Present the Model Lineage as a dataframe\n",
    "from sagemaker.session import Session\n",
    "\n",
    "session = boto3.Session()\n",
    "lineage_table = ExperimentAnalytics(\n",
    "    sagemaker_session=Session(session, sm),\n",
    "    search_expression={\n",
    "        \"Filters\": [{\"Name\": \"Parents.TrialName\", \"Operator\": \"Equals\", \"Value\": trial_name}]\n",
    "    },\n",
    "    sort_by=\"CreationTime\",\n",
    "    sort_order=\"Ascending\",\n",
    ")\n",
    "lineagedf = lineage_table.dataframe()\n",
    "\n",
    "lineagedf"
   ]
  },
  {
   "cell_type": "code",
   "execution_count": 30,
   "metadata": {},
   "outputs": [
    {
     "data": {
      "text/plain": [
       "{'TrialComponentName': 'cc-training-job-1626189823-aws-training-job',\n",
       " 'TrialComponentArn': 'arn:aws:sagemaker:ap-northeast-1:308961792850:experiment-trial-component/cc-training-job-1626189823-aws-training-job',\n",
       " 'DisplayName': 'Training',\n",
       " 'Source': {'SourceArn': 'arn:aws:sagemaker:ap-northeast-1:308961792850:training-job/cc-training-job-1626189823',\n",
       "  'SourceType': 'SageMakerTrainingJob'},\n",
       " 'Status': {'PrimaryStatus': 'Completed',\n",
       "  'Message': 'Status: Completed, secondary status: Completed, failure reason: .'},\n",
       " 'StartTime': datetime.datetime(2021, 7, 13, 15, 26, 10, tzinfo=tzlocal()),\n",
       " 'EndTime': datetime.datetime(2021, 7, 13, 15, 27, 27, tzinfo=tzlocal()),\n",
       " 'CreationTime': datetime.datetime(2021, 7, 13, 15, 23, 45, 571000, tzinfo=tzlocal()),\n",
       " 'CreatedBy': {},\n",
       " 'LastModifiedTime': datetime.datetime(2021, 7, 13, 15, 27, 54, 544000, tzinfo=tzlocal()),\n",
       " 'LastModifiedBy': {},\n",
       " 'Parameters': {'SageMaker.ImageUri': {'StringValue': '308961792850.dkr.ecr.ap-northeast-1.amazonaws.com/xgboost-byoc:latest'},\n",
       "  'SageMaker.InstanceCount': {'NumberValue': 1.0},\n",
       "  'SageMaker.InstanceType': {'StringValue': 'ml.m4.xlarge'},\n",
       "  'SageMaker.VolumeSizeInGB': {'NumberValue': 30.0},\n",
       "  'eta': {'StringValue': '0.2', 'NumberValue': 0.2},\n",
       "  'gamma': {'StringValue': '4', 'NumberValue': 4.0},\n",
       "  'max_depth': {'StringValue': '5', 'NumberValue': 5.0},\n",
       "  'min_child_weight': {'StringValue': '6', 'NumberValue': 6.0},\n",
       "  'num_round': {'StringValue': '100', 'NumberValue': 100.0},\n",
       "  'objective': {'StringValue': 'binary:logistic'},\n",
       "  'subsample': {'StringValue': '0.8', 'NumberValue': 0.8},\n",
       "  'verbosity': {'StringValue': '0', 'NumberValue': 0.0}},\n",
       " 'InputArtifacts': {'training': {'Value': 's3://sagemaker-ap-northeast-1-308961792850/sagemaker-modelmonitor/train_data'}},\n",
       " 'OutputArtifacts': {'SageMaker.ModelArtifact': {'Value': 's3://sagemaker-ap-northeast-1-308961792850/sagemaker-modelmonitor/models/cc-training-job-1626189823/output/model.tar.gz'}},\n",
       " 'Metrics': [],\n",
       " 'ResponseMetadata': {'RequestId': '9f32da15-0ff3-4e1c-a988-ad2cf86b355c',\n",
       "  'HTTPStatusCode': 200,\n",
       "  'HTTPHeaders': {'x-amzn-requestid': '9f32da15-0ff3-4e1c-a988-ad2cf86b355c',\n",
       "   'content-type': 'application/x-amz-json-1.1',\n",
       "   'content-length': '1633',\n",
       "   'date': 'Tue, 13 Jul 2021 15:27:59 GMT'},\n",
       "  'RetryAttempts': 0}}"
      ]
     },
     "execution_count": 30,
     "metadata": {},
     "output_type": "execute_result"
    }
   ],
   "source": [
    "# get detailed information about a particular trial\n",
    "sm.describe_trial_component(TrialComponentName=lineagedf.TrialComponentName[1])"
   ]
  },
  {
   "cell_type": "markdown",
   "metadata": {},
   "source": [
    "# Part 3: Using the trained model for inference\n",
    "\n",
    "### Step 8: Inference using Batch Transform\n",
    "\n",
    "먼저 Batch Transform을 사용하여 이전에 사전 처리한 테스트 데이터 세트에 대한 추론을 생성해 보겠습니다."
   ]
  },
  {
   "cell_type": "code",
   "execution_count": 31,
   "metadata": {},
   "outputs": [],
   "source": [
    "s3 = boto3.client(\"s3\")\n",
    "s3.download_file(rawbucket, testdataprefix + \"/test_data.csv\", \"test_data.csv\")"
   ]
  },
  {
   "cell_type": "code",
   "execution_count": 32,
   "metadata": {},
   "outputs": [
    {
     "data": {
      "text/html": [
       "<div>\n",
       "<style scoped>\n",
       "    .dataframe tbody tr th:only-of-type {\n",
       "        vertical-align: middle;\n",
       "    }\n",
       "\n",
       "    .dataframe tbody tr th {\n",
       "        vertical-align: top;\n",
       "    }\n",
       "\n",
       "    .dataframe thead th {\n",
       "        text-align: right;\n",
       "    }\n",
       "</style>\n",
       "<table border=\"1\" class=\"dataframe\">\n",
       "  <thead>\n",
       "    <tr style=\"text-align: right;\">\n",
       "      <th></th>\n",
       "      <th>Label</th>\n",
       "      <th>PAY_AMT1</th>\n",
       "      <th>BILL_AMT1</th>\n",
       "      <th>LIMIT_BAL</th>\n",
       "      <th>SEX</th>\n",
       "      <th>EDUCATION</th>\n",
       "      <th>MARRIAGE</th>\n",
       "      <th>AGE</th>\n",
       "      <th>PAY_0</th>\n",
       "      <th>PAY_2</th>\n",
       "      <th>...</th>\n",
       "      <th>BILL_AMT2</th>\n",
       "      <th>BILL_AMT3</th>\n",
       "      <th>BILL_AMT4</th>\n",
       "      <th>BILL_AMT5</th>\n",
       "      <th>BILL_AMT6</th>\n",
       "      <th>PAY_AMT2</th>\n",
       "      <th>PAY_AMT3</th>\n",
       "      <th>PAY_AMT4</th>\n",
       "      <th>PAY_AMT5</th>\n",
       "      <th>PAY_AMT6</th>\n",
       "    </tr>\n",
       "  </thead>\n",
       "  <tbody>\n",
       "    <tr>\n",
       "      <th>0</th>\n",
       "      <td>0</td>\n",
       "      <td>-0.341476</td>\n",
       "      <td>0.201175</td>\n",
       "      <td>20000.0</td>\n",
       "      <td>1.0</td>\n",
       "      <td>1.0</td>\n",
       "      <td>2.0</td>\n",
       "      <td>33.0</td>\n",
       "      <td>1.0</td>\n",
       "      <td>2.0</td>\n",
       "      <td>...</td>\n",
       "      <td>17399.0</td>\n",
       "      <td>19057.0</td>\n",
       "      <td>18453.0</td>\n",
       "      <td>19755.0</td>\n",
       "      <td>19288.0</td>\n",
       "      <td>2260.0</td>\n",
       "      <td>0.0</td>\n",
       "      <td>1600.0</td>\n",
       "      <td>0.0</td>\n",
       "      <td>644.0</td>\n",
       "    </tr>\n",
       "    <tr>\n",
       "      <th>1</th>\n",
       "      <td>0</td>\n",
       "      <td>-0.136859</td>\n",
       "      <td>0.199594</td>\n",
       "      <td>20000.0</td>\n",
       "      <td>2.0</td>\n",
       "      <td>2.0</td>\n",
       "      <td>2.0</td>\n",
       "      <td>35.0</td>\n",
       "      <td>0.0</td>\n",
       "      <td>0.0</td>\n",
       "      <td>...</td>\n",
       "      <td>19347.0</td>\n",
       "      <td>18600.0</td>\n",
       "      <td>19000.0</td>\n",
       "      <td>19000.0</td>\n",
       "      <td>20000.0</td>\n",
       "      <td>0.0</td>\n",
       "      <td>1000.0</td>\n",
       "      <td>0.0</td>\n",
       "      <td>1000.0</td>\n",
       "      <td>0.0</td>\n",
       "    </tr>\n",
       "    <tr>\n",
       "      <th>2</th>\n",
       "      <td>0</td>\n",
       "      <td>-0.284364</td>\n",
       "      <td>0.185736</td>\n",
       "      <td>230000.0</td>\n",
       "      <td>2.0</td>\n",
       "      <td>1.0</td>\n",
       "      <td>1.0</td>\n",
       "      <td>44.0</td>\n",
       "      <td>1.0</td>\n",
       "      <td>-1.0</td>\n",
       "      <td>...</td>\n",
       "      <td>949.0</td>\n",
       "      <td>2864.0</td>\n",
       "      <td>933.0</td>\n",
       "      <td>0.0</td>\n",
       "      <td>0.0</td>\n",
       "      <td>2873.0</td>\n",
       "      <td>933.0</td>\n",
       "      <td>0.0</td>\n",
       "      <td>0.0</td>\n",
       "      <td>0.0</td>\n",
       "    </tr>\n",
       "    <tr>\n",
       "      <th>3</th>\n",
       "      <td>0</td>\n",
       "      <td>-0.040569</td>\n",
       "      <td>0.289360</td>\n",
       "      <td>100000.0</td>\n",
       "      <td>1.0</td>\n",
       "      <td>2.0</td>\n",
       "      <td>1.0</td>\n",
       "      <td>42.0</td>\n",
       "      <td>0.0</td>\n",
       "      <td>0.0</td>\n",
       "      <td>...</td>\n",
       "      <td>99998.0</td>\n",
       "      <td>16138.0</td>\n",
       "      <td>17758.0</td>\n",
       "      <td>18774.0</td>\n",
       "      <td>20272.0</td>\n",
       "      <td>2000.0</td>\n",
       "      <td>2000.0</td>\n",
       "      <td>2000.0</td>\n",
       "      <td>2000.0</td>\n",
       "      <td>2000.0</td>\n",
       "    </tr>\n",
       "    <tr>\n",
       "      <th>4</th>\n",
       "      <td>0</td>\n",
       "      <td>0.079132</td>\n",
       "      <td>0.186502</td>\n",
       "      <td>150000.0</td>\n",
       "      <td>1.0</td>\n",
       "      <td>1.0</td>\n",
       "      <td>2.0</td>\n",
       "      <td>29.0</td>\n",
       "      <td>-2.0</td>\n",
       "      <td>-2.0</td>\n",
       "      <td>...</td>\n",
       "      <td>6917.0</td>\n",
       "      <td>831.0</td>\n",
       "      <td>6469.0</td>\n",
       "      <td>5138.0</td>\n",
       "      <td>7810.0</td>\n",
       "      <td>833.0</td>\n",
       "      <td>6488.0</td>\n",
       "      <td>5153.0</td>\n",
       "      <td>7833.0</td>\n",
       "      <td>7130.0</td>\n",
       "    </tr>\n",
       "  </tbody>\n",
       "</table>\n",
       "<p>5 rows × 24 columns</p>\n",
       "</div>"
      ],
      "text/plain": [
       "   Label  PAY_AMT1  BILL_AMT1  LIMIT_BAL  SEX  EDUCATION  MARRIAGE   AGE  \\\n",
       "0      0 -0.341476   0.201175    20000.0  1.0        1.0       2.0  33.0   \n",
       "1      0 -0.136859   0.199594    20000.0  2.0        2.0       2.0  35.0   \n",
       "2      0 -0.284364   0.185736   230000.0  2.0        1.0       1.0  44.0   \n",
       "3      0 -0.040569   0.289360   100000.0  1.0        2.0       1.0  42.0   \n",
       "4      0  0.079132   0.186502   150000.0  1.0        1.0       2.0  29.0   \n",
       "\n",
       "   PAY_0  PAY_2  ...  BILL_AMT2  BILL_AMT3  BILL_AMT4  BILL_AMT5  BILL_AMT6  \\\n",
       "0    1.0    2.0  ...    17399.0    19057.0    18453.0    19755.0    19288.0   \n",
       "1    0.0    0.0  ...    19347.0    18600.0    19000.0    19000.0    20000.0   \n",
       "2    1.0   -1.0  ...      949.0     2864.0      933.0        0.0        0.0   \n",
       "3    0.0    0.0  ...    99998.0    16138.0    17758.0    18774.0    20272.0   \n",
       "4   -2.0   -2.0  ...     6917.0      831.0     6469.0     5138.0     7810.0   \n",
       "\n",
       "   PAY_AMT2  PAY_AMT3  PAY_AMT4  PAY_AMT5  PAY_AMT6  \n",
       "0    2260.0       0.0    1600.0       0.0     644.0  \n",
       "1       0.0    1000.0       0.0    1000.0       0.0  \n",
       "2    2873.0     933.0       0.0       0.0       0.0  \n",
       "3    2000.0    2000.0    2000.0    2000.0    2000.0  \n",
       "4     833.0    6488.0    5153.0    7833.0    7130.0  \n",
       "\n",
       "[5 rows x 24 columns]"
      ]
     },
     "execution_count": 32,
     "metadata": {},
     "output_type": "execute_result"
    }
   ],
   "source": [
    "newcolorder = (\n",
    "    [\"PAY_AMT1\", \"BILL_AMT1\"] + list(COLS[1:])[:11] + list(COLS[1:])[12:17] + list(COLS[1:])[18:]\n",
    ")\n",
    "test_full = pd.read_csv(\"test_data.csv\", names=[\"Label\"] + newcolorder)\n",
    "test_full.head()"
   ]
  },
  {
   "cell_type": "code",
   "execution_count": 33,
   "metadata": {},
   "outputs": [
    {
     "data": {
      "text/plain": [
       "(6000, 23)"
      ]
     },
     "execution_count": 33,
     "metadata": {},
     "output_type": "execute_result"
    }
   ],
   "source": [
    "test_data_no_label = test_full.drop(columns=[\"Label\"], axis=1)\n",
    "label = test_full[\"Label\"]\n",
    "test_data_no_label.to_csv(\"test_data_no_label.csv\", index=False, header=False)\n",
    "test_data_no_label.shape"
   ]
  },
  {
   "cell_type": "code",
   "execution_count": 34,
   "metadata": {},
   "outputs": [],
   "source": [
    "sess = sagemaker.Session()\n",
    "test_data_nohead_location = sess.upload_data(\n",
    "    \"test_data_no_label.csv\", bucket=rawbucket, key_prefix=testdatanolabelprefix\n",
    ")"
   ]
  },
  {
   "cell_type": "code",
   "execution_count": 35,
   "metadata": {},
   "outputs": [
    {
     "name": "stderr",
     "output_type": "stream",
     "text": [
      "INFO:sagemaker:Creating model with name: xgboost-byoc-2021-07-13-15-28-00-620\n",
      "INFO:sagemaker:Creating transform job with name: xgboost-byoc-2021-07-13-15-28-00-965\n"
     ]
    },
    {
     "name": "stdout",
     "output_type": "stream",
     "text": [
      ".............................\u001b[34mStarting the inference server with 4 workers.\u001b[0m\n",
      "\u001b[34m[2021-07-13 15:32:42 +0000] [10] [INFO] Starting gunicorn 20.1.0\u001b[0m\n",
      "\u001b[34m[2021-07-13 15:32:42 +0000] [10] [INFO] Listening at: unix:/tmp/gunicorn.sock (10)\u001b[0m\n",
      "\u001b[34m[2021-07-13 15:32:42 +0000] [10] [INFO] Using worker: gevent\u001b[0m\n",
      "\u001b[34m[2021-07-13 15:32:42 +0000] [14] [INFO] Booting worker with pid: 14\u001b[0m\n",
      "\u001b[34m[2021-07-13 15:32:42 +0000] [15] [INFO] Booting worker with pid: 15\u001b[0m\n",
      "\u001b[34m[2021-07-13 15:32:42 +0000] [16] [INFO] Booting worker with pid: 16\u001b[0m\n",
      "\u001b[34m[2021-07-13 15:32:42 +0000] [17] [INFO] Booting worker with pid: 17\u001b[0m\n",
      "\u001b[34m169.254.255.130 - - [13/Jul/2021:15:32:47 +0000] \"GET /ping HTTP/1.1\" 200 1 \"-\" \"Go-http-client/1.1\"\u001b[0m\n",
      "\u001b[34m169.254.255.130 - - [13/Jul/2021:15:32:47 +0000] \"GET /execution-parameters HTTP/1.1\" 404 2 \"-\" \"Go-http-client/1.1\"\u001b[0m\n",
      "\u001b[34mInvoked with 6000 records\u001b[0m\n",
      "\u001b[34m/usr/local/lib/python3.6/dist-packages/sklearn/preprocessing/label.py:151: DeprecationWarning: The truth value of an empty array is ambiguous. Returning False, but in future this will result in an error. Use `array.size > 0` to check that an array is not empty.\n",
      "  if diff:\u001b[0m\n",
      "\u001b[34m169.254.255.130 - - [13/Jul/2021:15:32:47 +0000] \"POST /invocations HTTP/1.1\" 200 11999 \"-\" \"Go-http-client/1.1\"\u001b[0m\n",
      "\n",
      "\u001b[32m2021-07-13T15:32:47.334:[sagemaker logs]: MaxConcurrentTransforms=1, MaxPayloadInMB=6, BatchStrategy=MULTI_RECORD\u001b[0m\n",
      "\u001b[34mStarting the inference server with 4 workers.\u001b[0m\n",
      "\u001b[34m[2021-07-13 15:32:42 +0000] [10] [INFO] Starting gunicorn 20.1.0\u001b[0m\n",
      "\u001b[34m[2021-07-13 15:32:42 +0000] [10] [INFO] Listening at: unix:/tmp/gunicorn.sock (10)\u001b[0m\n",
      "\u001b[34m[2021-07-13 15:32:42 +0000] [10] [INFO] Using worker: gevent\u001b[0m\n",
      "\u001b[34m[2021-07-13 15:32:42 +0000] [14] [INFO] Booting worker with pid: 14\u001b[0m\n",
      "\u001b[34m[2021-07-13 15:32:42 +0000] [15] [INFO] Booting worker with pid: 15\u001b[0m\n",
      "\u001b[35mStarting the inference server with 4 workers.\u001b[0m\n",
      "\u001b[35m[2021-07-13 15:32:42 +0000] [10] [INFO] Starting gunicorn 20.1.0\u001b[0m\n",
      "\u001b[35m[2021-07-13 15:32:42 +0000] [10] [INFO] Listening at: unix:/tmp/gunicorn.sock (10)\u001b[0m\n",
      "\u001b[35m[2021-07-13 15:32:42 +0000] [10] [INFO] Using worker: gevent\u001b[0m\n",
      "\u001b[35m[2021-07-13 15:32:42 +0000] [14] [INFO] Booting worker with pid: 14\u001b[0m\n",
      "\u001b[35m[2021-07-13 15:32:42 +0000] [15] [INFO] Booting worker with pid: 15\u001b[0m\n",
      "\u001b[34m[2021-07-13 15:32:42 +0000] [16] [INFO] Booting worker with pid: 16\u001b[0m\n",
      "\u001b[34m[2021-07-13 15:32:42 +0000] [17] [INFO] Booting worker with pid: 17\u001b[0m\n",
      "\u001b[35m[2021-07-13 15:32:42 +0000] [16] [INFO] Booting worker with pid: 16\u001b[0m\n",
      "\u001b[35m[2021-07-13 15:32:42 +0000] [17] [INFO] Booting worker with pid: 17\u001b[0m\n",
      "\u001b[34m169.254.255.130 - - [13/Jul/2021:15:32:47 +0000] \"GET /ping HTTP/1.1\" 200 1 \"-\" \"Go-http-client/1.1\"\u001b[0m\n",
      "\u001b[34m169.254.255.130 - - [13/Jul/2021:15:32:47 +0000] \"GET /execution-parameters HTTP/1.1\" 404 2 \"-\" \"Go-http-client/1.1\"\u001b[0m\n",
      "\u001b[35m169.254.255.130 - - [13/Jul/2021:15:32:47 +0000] \"GET /ping HTTP/1.1\" 200 1 \"-\" \"Go-http-client/1.1\"\u001b[0m\n",
      "\u001b[35m169.254.255.130 - - [13/Jul/2021:15:32:47 +0000] \"GET /execution-parameters HTTP/1.1\" 404 2 \"-\" \"Go-http-client/1.1\"\u001b[0m\n",
      "\u001b[34mInvoked with 6000 records\u001b[0m\n",
      "\u001b[34m/usr/local/lib/python3.6/dist-packages/sklearn/preprocessing/label.py:151: DeprecationWarning: The truth value of an empty array is ambiguous. Returning False, but in future this will result in an error. Use `array.size > 0` to check that an array is not empty.\n",
      "  if diff:\u001b[0m\n",
      "\u001b[34m169.254.255.130 - - [13/Jul/2021:15:32:47 +0000] \"POST /invocations HTTP/1.1\" 200 11999 \"-\" \"Go-http-client/1.1\"\u001b[0m\n",
      "\u001b[35mInvoked with 6000 records\u001b[0m\n",
      "\u001b[35m/usr/local/lib/python3.6/dist-packages/sklearn/preprocessing/label.py:151: DeprecationWarning: The truth value of an empty array is ambiguous. Returning False, but in future this will result in an error. Use `array.size > 0` to check that an array is not empty.\n",
      "  if diff:\u001b[0m\n",
      "\u001b[35m169.254.255.130 - - [13/Jul/2021:15:32:47 +0000] \"POST /invocations HTTP/1.1\" 200 11999 \"-\" \"Go-http-client/1.1\"\u001b[0m\n",
      "\u001b[32m2021-07-13T15:32:47.334:[sagemaker logs]: MaxConcurrentTransforms=1, MaxPayloadInMB=6, BatchStrategy=MULTI_RECORD\u001b[0m\n",
      "CPU times: user 558 ms, sys: 35.5 ms, total: 593 ms\n",
      "Wall time: 5min 13s\n"
     ]
    }
   ],
   "source": [
    "%%time\n",
    "\n",
    "sm_transformer = xgb.transformer(1, \"ml.m5.xlarge\", accept=\"text/csv\")\n",
    "\n",
    "# start a transform job\n",
    "sm_transformer.transform(test_data_nohead_location, split_type=\"Line\", content_type=\"text/csv\")\n",
    "sm_transformer.wait()"
   ]
  },
  {
   "cell_type": "code",
   "execution_count": 36,
   "metadata": {},
   "outputs": [],
   "source": [
    "import json\n",
    "import io\n",
    "from urllib.parse import urlparse\n",
    "\n",
    "\n",
    "def get_csv_output_from_s3(s3uri, file_name):\n",
    "    parsed_url = urlparse(s3uri)\n",
    "    bucket_name = parsed_url.netloc\n",
    "    prefix = parsed_url.path[1:]\n",
    "    s3 = boto3.resource(\"s3\")\n",
    "    obj = s3.Object(bucket_name, \"{}/{}\".format(prefix, file_name))\n",
    "    return obj.get()[\"Body\"].read().decode(\"utf-8\")"
   ]
  },
  {
   "cell_type": "code",
   "execution_count": 37,
   "metadata": {},
   "outputs": [
    {
     "data": {
      "text/html": [
       "<div>\n",
       "<style scoped>\n",
       "    .dataframe tbody tr th:only-of-type {\n",
       "        vertical-align: middle;\n",
       "    }\n",
       "\n",
       "    .dataframe tbody tr th {\n",
       "        vertical-align: top;\n",
       "    }\n",
       "\n",
       "    .dataframe thead th {\n",
       "        text-align: right;\n",
       "    }\n",
       "</style>\n",
       "<table border=\"1\" class=\"dataframe\">\n",
       "  <thead>\n",
       "    <tr style=\"text-align: right;\">\n",
       "      <th></th>\n",
       "      <th>0</th>\n",
       "    </tr>\n",
       "  </thead>\n",
       "  <tbody>\n",
       "    <tr>\n",
       "      <th>0</th>\n",
       "      <td>1</td>\n",
       "    </tr>\n",
       "    <tr>\n",
       "      <th>1</th>\n",
       "      <td>0</td>\n",
       "    </tr>\n",
       "    <tr>\n",
       "      <th>2</th>\n",
       "      <td>0</td>\n",
       "    </tr>\n",
       "    <tr>\n",
       "      <th>3</th>\n",
       "      <td>0</td>\n",
       "    </tr>\n",
       "    <tr>\n",
       "      <th>4</th>\n",
       "      <td>0</td>\n",
       "    </tr>\n",
       "    <tr>\n",
       "      <th>5</th>\n",
       "      <td>0</td>\n",
       "    </tr>\n",
       "    <tr>\n",
       "      <th>6</th>\n",
       "      <td>0</td>\n",
       "    </tr>\n",
       "    <tr>\n",
       "      <th>7</th>\n",
       "      <td>0</td>\n",
       "    </tr>\n",
       "  </tbody>\n",
       "</table>\n",
       "</div>"
      ],
      "text/plain": [
       "   0\n",
       "0  1\n",
       "1  0\n",
       "2  0\n",
       "3  0\n",
       "4  0\n",
       "5  0\n",
       "6  0\n",
       "7  0"
      ]
     },
     "execution_count": 37,
     "metadata": {},
     "output_type": "execute_result"
    }
   ],
   "source": [
    "output = get_csv_output_from_s3(sm_transformer.output_path, \"test_data_no_label.csv.out\")\n",
    "output_df = pd.read_csv(io.StringIO(output), sep=\",\", header=None)\n",
    "output_df.head(8)"
   ]
  },
  {
   "cell_type": "code",
   "execution_count": 38,
   "metadata": {},
   "outputs": [],
   "source": [
    "from sklearn.metrics import confusion_matrix, accuracy_score"
   ]
  },
  {
   "cell_type": "code",
   "execution_count": 39,
   "metadata": {},
   "outputs": [
    {
     "data": {
      "text/plain": [
       "0.7787999999999999"
      ]
     },
     "execution_count": 39,
     "metadata": {},
     "output_type": "execute_result"
    }
   ],
   "source": [
    "1 - np.unique(data[\"Label\"], return_counts=True)[1][1] / (len(data[\"Label\"]))"
   ]
  },
  {
   "cell_type": "code",
   "execution_count": 40,
   "metadata": {},
   "outputs": [
    {
     "name": "stdout",
     "output_type": "stream",
     "text": [
      "Baseline Accuracy = 0.7787999999999999\n",
      "Accuracy Score = 0.826\n"
     ]
    }
   ],
   "source": [
    "print(\n",
    "    \"Baseline Accuracy = {}\".format(\n",
    "        1 - np.unique(data[\"Label\"], return_counts=True)[1][1] / (len(data[\"Label\"]))\n",
    "    )\n",
    ")\n",
    "print(\"Accuracy Score = {}\".format(accuracy_score(label, output_df)))"
   ]
  },
  {
   "cell_type": "code",
   "execution_count": 41,
   "metadata": {},
   "outputs": [
    {
     "name": "stderr",
     "output_type": "stream",
     "text": [
      "INFO:numexpr.utils:Note: NumExpr detected 16 cores but \"NUMEXPR_MAX_THREADS\" not set, so enforcing safe limit of 8.\n",
      "INFO:numexpr.utils:NumExpr defaulting to 8 threads.\n"
     ]
    },
    {
     "data": {
      "text/html": [
       "<div>\n",
       "<style scoped>\n",
       "    .dataframe tbody tr th:only-of-type {\n",
       "        vertical-align: middle;\n",
       "    }\n",
       "\n",
       "    .dataframe tbody tr th {\n",
       "        vertical-align: top;\n",
       "    }\n",
       "\n",
       "    .dataframe thead th {\n",
       "        text-align: right;\n",
       "    }\n",
       "</style>\n",
       "<table border=\"1\" class=\"dataframe\">\n",
       "  <thead>\n",
       "    <tr style=\"text-align: right;\">\n",
       "      <th>Predicted</th>\n",
       "      <th>0</th>\n",
       "      <th>1</th>\n",
       "      <th>All</th>\n",
       "    </tr>\n",
       "    <tr>\n",
       "      <th>Actual</th>\n",
       "      <th></th>\n",
       "      <th></th>\n",
       "      <th></th>\n",
       "    </tr>\n",
       "  </thead>\n",
       "  <tbody>\n",
       "    <tr>\n",
       "      <th>0</th>\n",
       "      <td>4472</td>\n",
       "      <td>813</td>\n",
       "      <td>5285</td>\n",
       "    </tr>\n",
       "    <tr>\n",
       "      <th>1</th>\n",
       "      <td>231</td>\n",
       "      <td>484</td>\n",
       "      <td>715</td>\n",
       "    </tr>\n",
       "    <tr>\n",
       "      <th>All</th>\n",
       "      <td>4703</td>\n",
       "      <td>1297</td>\n",
       "      <td>6000</td>\n",
       "    </tr>\n",
       "  </tbody>\n",
       "</table>\n",
       "</div>"
      ],
      "text/plain": [
       "Predicted     0     1   All\n",
       "Actual                     \n",
       "0          4472   813  5285\n",
       "1           231   484   715\n",
       "All        4703  1297  6000"
      ]
     },
     "execution_count": 41,
     "metadata": {},
     "output_type": "execute_result"
    }
   ],
   "source": [
    "output_df[\"Predicted\"] = output_df.values\n",
    "output_df[\"Label\"] = label\n",
    "confusion_matrix = pd.crosstab(\n",
    "    output_df[\"Predicted\"],\n",
    "    output_df[\"Label\"],\n",
    "    rownames=[\"Actual\"],\n",
    "    colnames=[\"Predicted\"],\n",
    "    margins=True,\n",
    ")\n",
    "confusion_matrix"
   ]
  },
  {
   "cell_type": "markdown",
   "metadata": {},
   "source": [
    "### Step 9: Conclusions"
   ]
  },
  {
   "cell_type": "markdown",
   "metadata": {},
   "source": [
    "In this notebook we demonstrated an end to end cycle of data exploration, data processing using SageMaker processing, model development using an XGBoost Bring Your Own Container which we pushed to ECR, model training and offline inference using Batch Transform. Finally we logged our training metadata using SageMaker Experiments.\n",
    "\n",
    "You can use this notebook to experiment with end to end data science experimentation using SageMaker Studio. \n",
    "\n",
    "\n",
    "Remember to delete your datasets in the Amazon S3 bucket you used for this notebook.\n",
    "\n",
    "이 노트북에서 우리는 데이터 탐색, SageMaker 처리를 사용한 데이터 처리, ECR에 푸시한 XGBoost Bring Your Own Container를 사용한 모델 개발, 배치 변환을 사용한 모델 교육 및 오프라인 추론의 엔드 투 엔드 주기를 시연했습니다. 마지막으로 SageMaker Experiments를 사용하여 교육 메타데이터를 기록했습니다.\n",
    "\n",
    "이 노트북을 사용하여 SageMaker Studio를 사용하여 종단 간 데이터 과학 실험을 실험할 수 있습니다.\n",
    "\n",
    "\n",
    "이 노트북에 사용한 Amazon S3 버킷에서 데이터 세트를 삭제하는 것을 잊지 마십시오."
   ]
  },
  {
   "cell_type": "code",
   "execution_count": null,
   "metadata": {},
   "outputs": [],
   "source": []
  }
 ],
 "metadata": {
  "instance_type": "ml.t3.medium",
  "kernelspec": {
   "display_name": "conda_python3",
   "language": "python",
   "name": "conda_python3"
  },
  "language_info": {
   "codemirror_mode": {
    "name": "ipython",
    "version": 3
   },
   "file_extension": ".py",
   "mimetype": "text/x-python",
   "name": "python",
   "nbconvert_exporter": "python",
   "pygments_lexer": "ipython3",
   "version": "3.6.13"
  }
 },
 "nbformat": 4,
 "nbformat_minor": 4
}
